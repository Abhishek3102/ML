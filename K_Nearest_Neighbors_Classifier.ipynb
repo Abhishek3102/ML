{
  "nbformat": 4,
  "nbformat_minor": 0,
  "metadata": {
    "colab": {
      "provenance": [],
      "authorship_tag": "ABX9TyNAANDluiguy53Mp++Hf+UB",
      "include_colab_link": true
    },
    "kernelspec": {
      "name": "python3",
      "display_name": "Python 3"
    },
    "language_info": {
      "name": "python"
    }
  },
  "cells": [
    {
      "cell_type": "markdown",
      "metadata": {
        "id": "view-in-github",
        "colab_type": "text"
      },
      "source": [
        "<a href=\"https://colab.research.google.com/github/Abhishek3102/ML/blob/main/K_Nearest_Neighbors_Classifier.ipynb\" target=\"_parent\"><img src=\"https://colab.research.google.com/assets/colab-badge.svg\" alt=\"Open In Colab\"/></a>"
      ]
    },
    {
      "cell_type": "markdown",
      "source": [
        "Euclidean Distance\n",
        "\n",
        "![Picture1.png](data:image/png;base64,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)"
      ],
      "metadata": {
        "id": "MNQx_ezPC4bs"
      }
    },
    {
      "cell_type": "markdown",
      "source": [
        "Manhattan Distance\n",
        "\n",
        "![Picture2.png](data:image/png;base64,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)"
      ],
      "metadata": {
        "id": "9Y1h8shcDBCO"
      }
    },
    {
      "cell_type": "code",
      "execution_count": null,
      "metadata": {
        "id": "pL3g-mV5CfSG"
      },
      "outputs": [],
      "source": [
        "import numpy as np\n",
        "import statistics"
      ]
    },
    {
      "cell_type": "markdown",
      "source": [
        "K Nearest Neighbors"
      ],
      "metadata": {
        "id": "z20PiM3PDy_D"
      }
    },
    {
      "cell_type": "code",
      "source": [
        "class KNN_Classifier():\n",
        "\n",
        "  # Initiating the parameters\n",
        "  def __init__(self, distance_metric):\n",
        "    self.get_distance_metric = distance_metric\n",
        "\n",
        "  # getting the distance metric\n",
        "  def get_distance_metric(self, training_data_point, test_data_point):\n",
        "\n",
        "    if(self.get_distance_metric == 'euclidean'):\n",
        "      distance = 0\n",
        "\n",
        "      for i in range(len(training_data_point)-1):\n",
        "        distance += (training_data_point[i] - test_data_point[i])**2\n",
        "\n",
        "      euclidean_distance = np.sqrt(distance)\n",
        "      return euclidean_distance\n",
        "\n",
        "    elif(self.get_distance_metric == 'manhattan'):\n",
        "      distance = 0\n",
        "\n",
        "      for i in range(len(training_data_point) -1):\n",
        "        distance += abs(training_data_point[i] - test_data_point[i])\n",
        "\n",
        "        manhattan_distance = distance\n",
        "        return manhattan_distance\n",
        "\n",
        "  # getting the nearest neighbors\n",
        "  def nearest_neighbors(self, X_train, test_data, k):\n",
        "\n",
        "    distance_list = []\n",
        "\n",
        "    for training_data in X_train:\n",
        "\n",
        "      distance = self.get_distance_metric(training_data, test_data)\n",
        "      distance_list.append(training_data, distance)\n",
        "\n",
        "    distance_list.sort(key = lambda x: x[1])\n",
        "\n",
        "    neighbors_list = []\n",
        "\n",
        "    for j in range(k):\n",
        "      neighbors_list.append(distance_list[j][0])\n",
        "    return neighbors_list\n",
        "\n",
        "  # Predict the class of new data point\n",
        "  def predict(self,X_train, test_data, k):\n",
        "\n",
        "    neighbors = self.nearest_neighbors(X_train, test_data, k)\n",
        "\n",
        "    for data in neighbors:\n",
        "      label = []\n",
        "      label.append(data[-1])\n",
        "\n",
        "    predicted_class = statistics.mode(label)\n",
        "    return predicted_class\n",
        "\n"
      ],
      "metadata": {
        "id": "1RzUyhChDMah"
      },
      "execution_count": null,
      "outputs": []
    },
    {
      "cell_type": "markdown",
      "source": [
        "Diabetes Prediction"
      ],
      "metadata": {
        "id": "X0ZHUV2JM2w8"
      }
    },
    {
      "cell_type": "code",
      "source": [
        "import numpy as np\n",
        "import pandas as pd\n",
        "from sklearn.metrics import accuracy_score\n",
        "from sklearn.model_selection import train_test_split"
      ],
      "metadata": {
        "id": "KWl_loF7M41f"
      },
      "execution_count": null,
      "outputs": []
    },
    {
      "cell_type": "code",
      "source": [
        "df = pd.read_csv(\"/content/diabetes.csv\")"
      ],
      "metadata": {
        "id": "eoLFdbOLNRcc"
      },
      "execution_count": null,
      "outputs": []
    },
    {
      "cell_type": "code",
      "source": [
        "df.head()"
      ],
      "metadata": {
        "colab": {
          "base_uri": "https://localhost:8080/",
          "height": 206
        },
        "id": "6knDFvyXNZVH",
        "outputId": "b948e678-6e96-4255-d2dd-614f823c6043"
      },
      "execution_count": null,
      "outputs": [
        {
          "output_type": "execute_result",
          "data": {
            "text/plain": [
              "   Pregnancies  Glucose  BloodPressure  SkinThickness  Insulin   BMI  \\\n",
              "0            6      148             72             35        0  33.6   \n",
              "1            1       85             66             29        0  26.6   \n",
              "2            8      183             64              0        0  23.3   \n",
              "3            1       89             66             23       94  28.1   \n",
              "4            0      137             40             35      168  43.1   \n",
              "\n",
              "   DiabetesPedigreeFunction  Age  Outcome  \n",
              "0                     0.627   50        1  \n",
              "1                     0.351   31        0  \n",
              "2                     0.672   32        1  \n",
              "3                     0.167   21        0  \n",
              "4                     2.288   33        1  "
            ],
            "text/html": [
              "\n",
              "  <div id=\"df-3fa5ba28-1230-4956-9216-9b7d755af0d9\" class=\"colab-df-container\">\n",
              "    <div>\n",
              "<style scoped>\n",
              "    .dataframe tbody tr th:only-of-type {\n",
              "        vertical-align: middle;\n",
              "    }\n",
              "\n",
              "    .dataframe tbody tr th {\n",
              "        vertical-align: top;\n",
              "    }\n",
              "\n",
              "    .dataframe thead th {\n",
              "        text-align: right;\n",
              "    }\n",
              "</style>\n",
              "<table border=\"1\" class=\"dataframe\">\n",
              "  <thead>\n",
              "    <tr style=\"text-align: right;\">\n",
              "      <th></th>\n",
              "      <th>Pregnancies</th>\n",
              "      <th>Glucose</th>\n",
              "      <th>BloodPressure</th>\n",
              "      <th>SkinThickness</th>\n",
              "      <th>Insulin</th>\n",
              "      <th>BMI</th>\n",
              "      <th>DiabetesPedigreeFunction</th>\n",
              "      <th>Age</th>\n",
              "      <th>Outcome</th>\n",
              "    </tr>\n",
              "  </thead>\n",
              "  <tbody>\n",
              "    <tr>\n",
              "      <th>0</th>\n",
              "      <td>6</td>\n",
              "      <td>148</td>\n",
              "      <td>72</td>\n",
              "      <td>35</td>\n",
              "      <td>0</td>\n",
              "      <td>33.6</td>\n",
              "      <td>0.627</td>\n",
              "      <td>50</td>\n",
              "      <td>1</td>\n",
              "    </tr>\n",
              "    <tr>\n",
              "      <th>1</th>\n",
              "      <td>1</td>\n",
              "      <td>85</td>\n",
              "      <td>66</td>\n",
              "      <td>29</td>\n",
              "      <td>0</td>\n",
              "      <td>26.6</td>\n",
              "      <td>0.351</td>\n",
              "      <td>31</td>\n",
              "      <td>0</td>\n",
              "    </tr>\n",
              "    <tr>\n",
              "      <th>2</th>\n",
              "      <td>8</td>\n",
              "      <td>183</td>\n",
              "      <td>64</td>\n",
              "      <td>0</td>\n",
              "      <td>0</td>\n",
              "      <td>23.3</td>\n",
              "      <td>0.672</td>\n",
              "      <td>32</td>\n",
              "      <td>1</td>\n",
              "    </tr>\n",
              "    <tr>\n",
              "      <th>3</th>\n",
              "      <td>1</td>\n",
              "      <td>89</td>\n",
              "      <td>66</td>\n",
              "      <td>23</td>\n",
              "      <td>94</td>\n",
              "      <td>28.1</td>\n",
              "      <td>0.167</td>\n",
              "      <td>21</td>\n",
              "      <td>0</td>\n",
              "    </tr>\n",
              "    <tr>\n",
              "      <th>4</th>\n",
              "      <td>0</td>\n",
              "      <td>137</td>\n",
              "      <td>40</td>\n",
              "      <td>35</td>\n",
              "      <td>168</td>\n",
              "      <td>43.1</td>\n",
              "      <td>2.288</td>\n",
              "      <td>33</td>\n",
              "      <td>1</td>\n",
              "    </tr>\n",
              "  </tbody>\n",
              "</table>\n",
              "</div>\n",
              "    <div class=\"colab-df-buttons\">\n",
              "\n",
              "  <div class=\"colab-df-container\">\n",
              "    <button class=\"colab-df-convert\" onclick=\"convertToInteractive('df-3fa5ba28-1230-4956-9216-9b7d755af0d9')\"\n",
              "            title=\"Convert this dataframe to an interactive table.\"\n",
              "            style=\"display:none;\">\n",
              "\n",
              "  <svg xmlns=\"http://www.w3.org/2000/svg\" height=\"24px\" viewBox=\"0 -960 960 960\">\n",
              "    <path d=\"M120-120v-720h720v720H120Zm60-500h600v-160H180v160Zm220 220h160v-160H400v160Zm0 220h160v-160H400v160ZM180-400h160v-160H180v160Zm440 0h160v-160H620v160ZM180-180h160v-160H180v160Zm440 0h160v-160H620v160Z\"/>\n",
              "  </svg>\n",
              "    </button>\n",
              "\n",
              "  <style>\n",
              "    .colab-df-container {\n",
              "      display:flex;\n",
              "      gap: 12px;\n",
              "    }\n",
              "\n",
              "    .colab-df-convert {\n",
              "      background-color: #E8F0FE;\n",
              "      border: none;\n",
              "      border-radius: 50%;\n",
              "      cursor: pointer;\n",
              "      display: none;\n",
              "      fill: #1967D2;\n",
              "      height: 32px;\n",
              "      padding: 0 0 0 0;\n",
              "      width: 32px;\n",
              "    }\n",
              "\n",
              "    .colab-df-convert:hover {\n",
              "      background-color: #E2EBFA;\n",
              "      box-shadow: 0px 1px 2px rgba(60, 64, 67, 0.3), 0px 1px 3px 1px rgba(60, 64, 67, 0.15);\n",
              "      fill: #174EA6;\n",
              "    }\n",
              "\n",
              "    .colab-df-buttons div {\n",
              "      margin-bottom: 4px;\n",
              "    }\n",
              "\n",
              "    [theme=dark] .colab-df-convert {\n",
              "      background-color: #3B4455;\n",
              "      fill: #D2E3FC;\n",
              "    }\n",
              "\n",
              "    [theme=dark] .colab-df-convert:hover {\n",
              "      background-color: #434B5C;\n",
              "      box-shadow: 0px 1px 3px 1px rgba(0, 0, 0, 0.15);\n",
              "      filter: drop-shadow(0px 1px 2px rgba(0, 0, 0, 0.3));\n",
              "      fill: #FFFFFF;\n",
              "    }\n",
              "  </style>\n",
              "\n",
              "    <script>\n",
              "      const buttonEl =\n",
              "        document.querySelector('#df-3fa5ba28-1230-4956-9216-9b7d755af0d9 button.colab-df-convert');\n",
              "      buttonEl.style.display =\n",
              "        google.colab.kernel.accessAllowed ? 'block' : 'none';\n",
              "\n",
              "      async function convertToInteractive(key) {\n",
              "        const element = document.querySelector('#df-3fa5ba28-1230-4956-9216-9b7d755af0d9');\n",
              "        const dataTable =\n",
              "          await google.colab.kernel.invokeFunction('convertToInteractive',\n",
              "                                                    [key], {});\n",
              "        if (!dataTable) return;\n",
              "\n",
              "        const docLinkHtml = 'Like what you see? Visit the ' +\n",
              "          '<a target=\"_blank\" href=https://colab.research.google.com/notebooks/data_table.ipynb>data table notebook</a>'\n",
              "          + ' to learn more about interactive tables.';\n",
              "        element.innerHTML = '';\n",
              "        dataTable['output_type'] = 'display_data';\n",
              "        await google.colab.output.renderOutput(dataTable, element);\n",
              "        const docLink = document.createElement('div');\n",
              "        docLink.innerHTML = docLinkHtml;\n",
              "        element.appendChild(docLink);\n",
              "      }\n",
              "    </script>\n",
              "  </div>\n",
              "\n",
              "\n",
              "<div id=\"df-517fec71-b3dd-4dd0-8489-f964bfc29149\">\n",
              "  <button class=\"colab-df-quickchart\" onclick=\"quickchart('df-517fec71-b3dd-4dd0-8489-f964bfc29149')\"\n",
              "            title=\"Suggest charts\"\n",
              "            style=\"display:none;\">\n",
              "\n",
              "<svg xmlns=\"http://www.w3.org/2000/svg\" height=\"24px\"viewBox=\"0 0 24 24\"\n",
              "     width=\"24px\">\n",
              "    <g>\n",
              "        <path d=\"M19 3H5c-1.1 0-2 .9-2 2v14c0 1.1.9 2 2 2h14c1.1 0 2-.9 2-2V5c0-1.1-.9-2-2-2zM9 17H7v-7h2v7zm4 0h-2V7h2v10zm4 0h-2v-4h2v4z\"/>\n",
              "    </g>\n",
              "</svg>\n",
              "  </button>\n",
              "\n",
              "<style>\n",
              "  .colab-df-quickchart {\n",
              "      --bg-color: #E8F0FE;\n",
              "      --fill-color: #1967D2;\n",
              "      --hover-bg-color: #E2EBFA;\n",
              "      --hover-fill-color: #174EA6;\n",
              "      --disabled-fill-color: #AAA;\n",
              "      --disabled-bg-color: #DDD;\n",
              "  }\n",
              "\n",
              "  [theme=dark] .colab-df-quickchart {\n",
              "      --bg-color: #3B4455;\n",
              "      --fill-color: #D2E3FC;\n",
              "      --hover-bg-color: #434B5C;\n",
              "      --hover-fill-color: #FFFFFF;\n",
              "      --disabled-bg-color: #3B4455;\n",
              "      --disabled-fill-color: #666;\n",
              "  }\n",
              "\n",
              "  .colab-df-quickchart {\n",
              "    background-color: var(--bg-color);\n",
              "    border: none;\n",
              "    border-radius: 50%;\n",
              "    cursor: pointer;\n",
              "    display: none;\n",
              "    fill: var(--fill-color);\n",
              "    height: 32px;\n",
              "    padding: 0;\n",
              "    width: 32px;\n",
              "  }\n",
              "\n",
              "  .colab-df-quickchart:hover {\n",
              "    background-color: var(--hover-bg-color);\n",
              "    box-shadow: 0 1px 2px rgba(60, 64, 67, 0.3), 0 1px 3px 1px rgba(60, 64, 67, 0.15);\n",
              "    fill: var(--button-hover-fill-color);\n",
              "  }\n",
              "\n",
              "  .colab-df-quickchart-complete:disabled,\n",
              "  .colab-df-quickchart-complete:disabled:hover {\n",
              "    background-color: var(--disabled-bg-color);\n",
              "    fill: var(--disabled-fill-color);\n",
              "    box-shadow: none;\n",
              "  }\n",
              "\n",
              "  .colab-df-spinner {\n",
              "    border: 2px solid var(--fill-color);\n",
              "    border-color: transparent;\n",
              "    border-bottom-color: var(--fill-color);\n",
              "    animation:\n",
              "      spin 1s steps(1) infinite;\n",
              "  }\n",
              "\n",
              "  @keyframes spin {\n",
              "    0% {\n",
              "      border-color: transparent;\n",
              "      border-bottom-color: var(--fill-color);\n",
              "      border-left-color: var(--fill-color);\n",
              "    }\n",
              "    20% {\n",
              "      border-color: transparent;\n",
              "      border-left-color: var(--fill-color);\n",
              "      border-top-color: var(--fill-color);\n",
              "    }\n",
              "    30% {\n",
              "      border-color: transparent;\n",
              "      border-left-color: var(--fill-color);\n",
              "      border-top-color: var(--fill-color);\n",
              "      border-right-color: var(--fill-color);\n",
              "    }\n",
              "    40% {\n",
              "      border-color: transparent;\n",
              "      border-right-color: var(--fill-color);\n",
              "      border-top-color: var(--fill-color);\n",
              "    }\n",
              "    60% {\n",
              "      border-color: transparent;\n",
              "      border-right-color: var(--fill-color);\n",
              "    }\n",
              "    80% {\n",
              "      border-color: transparent;\n",
              "      border-right-color: var(--fill-color);\n",
              "      border-bottom-color: var(--fill-color);\n",
              "    }\n",
              "    90% {\n",
              "      border-color: transparent;\n",
              "      border-bottom-color: var(--fill-color);\n",
              "    }\n",
              "  }\n",
              "</style>\n",
              "\n",
              "  <script>\n",
              "    async function quickchart(key) {\n",
              "      const quickchartButtonEl =\n",
              "        document.querySelector('#' + key + ' button');\n",
              "      quickchartButtonEl.disabled = true;  // To prevent multiple clicks.\n",
              "      quickchartButtonEl.classList.add('colab-df-spinner');\n",
              "      try {\n",
              "        const charts = await google.colab.kernel.invokeFunction(\n",
              "            'suggestCharts', [key], {});\n",
              "      } catch (error) {\n",
              "        console.error('Error during call to suggestCharts:', error);\n",
              "      }\n",
              "      quickchartButtonEl.classList.remove('colab-df-spinner');\n",
              "      quickchartButtonEl.classList.add('colab-df-quickchart-complete');\n",
              "    }\n",
              "    (() => {\n",
              "      let quickchartButtonEl =\n",
              "        document.querySelector('#df-517fec71-b3dd-4dd0-8489-f964bfc29149 button');\n",
              "      quickchartButtonEl.style.display =\n",
              "        google.colab.kernel.accessAllowed ? 'block' : 'none';\n",
              "    })();\n",
              "  </script>\n",
              "</div>\n",
              "\n",
              "    </div>\n",
              "  </div>\n"
            ],
            "application/vnd.google.colaboratory.intrinsic+json": {
              "type": "dataframe",
              "variable_name": "df",
              "summary": "{\n  \"name\": \"df\",\n  \"rows\": 768,\n  \"fields\": [\n    {\n      \"column\": \"Pregnancies\",\n      \"properties\": {\n        \"dtype\": \"number\",\n        \"std\": 3,\n        \"min\": 0,\n        \"max\": 17,\n        \"num_unique_values\": 17,\n        \"samples\": [\n          6,\n          1,\n          3\n        ],\n        \"semantic_type\": \"\",\n        \"description\": \"\"\n      }\n    },\n    {\n      \"column\": \"Glucose\",\n      \"properties\": {\n        \"dtype\": \"number\",\n        \"std\": 31,\n        \"min\": 0,\n        \"max\": 199,\n        \"num_unique_values\": 136,\n        \"samples\": [\n          151,\n          101,\n          112\n        ],\n        \"semantic_type\": \"\",\n        \"description\": \"\"\n      }\n    },\n    {\n      \"column\": \"BloodPressure\",\n      \"properties\": {\n        \"dtype\": \"number\",\n        \"std\": 19,\n        \"min\": 0,\n        \"max\": 122,\n        \"num_unique_values\": 47,\n        \"samples\": [\n          86,\n          46,\n          85\n        ],\n        \"semantic_type\": \"\",\n        \"description\": \"\"\n      }\n    },\n    {\n      \"column\": \"SkinThickness\",\n      \"properties\": {\n        \"dtype\": \"number\",\n        \"std\": 15,\n        \"min\": 0,\n        \"max\": 99,\n        \"num_unique_values\": 51,\n        \"samples\": [\n          7,\n          12,\n          48\n        ],\n        \"semantic_type\": \"\",\n        \"description\": \"\"\n      }\n    },\n    {\n      \"column\": \"Insulin\",\n      \"properties\": {\n        \"dtype\": \"number\",\n        \"std\": 115,\n        \"min\": 0,\n        \"max\": 846,\n        \"num_unique_values\": 186,\n        \"samples\": [\n          52,\n          41,\n          183\n        ],\n        \"semantic_type\": \"\",\n        \"description\": \"\"\n      }\n    },\n    {\n      \"column\": \"BMI\",\n      \"properties\": {\n        \"dtype\": \"number\",\n        \"std\": 7.884160320375446,\n        \"min\": 0.0,\n        \"max\": 67.1,\n        \"num_unique_values\": 248,\n        \"samples\": [\n          19.9,\n          31.0,\n          38.1\n        ],\n        \"semantic_type\": \"\",\n        \"description\": \"\"\n      }\n    },\n    {\n      \"column\": \"DiabetesPedigreeFunction\",\n      \"properties\": {\n        \"dtype\": \"number\",\n        \"std\": 0.3313285950127749,\n        \"min\": 0.078,\n        \"max\": 2.42,\n        \"num_unique_values\": 517,\n        \"samples\": [\n          1.731,\n          0.426,\n          0.138\n        ],\n        \"semantic_type\": \"\",\n        \"description\": \"\"\n      }\n    },\n    {\n      \"column\": \"Age\",\n      \"properties\": {\n        \"dtype\": \"number\",\n        \"std\": 11,\n        \"min\": 21,\n        \"max\": 81,\n        \"num_unique_values\": 52,\n        \"samples\": [\n          60,\n          47,\n          72\n        ],\n        \"semantic_type\": \"\",\n        \"description\": \"\"\n      }\n    },\n    {\n      \"column\": \"Outcome\",\n      \"properties\": {\n        \"dtype\": \"number\",\n        \"std\": 0,\n        \"min\": 0,\n        \"max\": 1,\n        \"num_unique_values\": 2,\n        \"samples\": [\n          0,\n          1\n        ],\n        \"semantic_type\": \"\",\n        \"description\": \"\"\n      }\n    }\n  ]\n}"
            }
          },
          "metadata": {},
          "execution_count": 24
        }
      ]
    },
    {
      "cell_type": "code",
      "source": [
        "df.shape"
      ],
      "metadata": {
        "colab": {
          "base_uri": "https://localhost:8080/"
        },
        "id": "2aCd-A5qNbYw",
        "outputId": "5dcfee3d-1b45-4c1c-b3fb-14a36f6021fa"
      },
      "execution_count": null,
      "outputs": [
        {
          "output_type": "execute_result",
          "data": {
            "text/plain": [
              "(768, 9)"
            ]
          },
          "metadata": {},
          "execution_count": 25
        }
      ]
    },
    {
      "cell_type": "code",
      "source": [
        "df.info()"
      ],
      "metadata": {
        "colab": {
          "base_uri": "https://localhost:8080/"
        },
        "id": "BmT9pli_NoWE",
        "outputId": "a4c3d6e0-a5d0-42a2-fbb5-d042415aa9d6"
      },
      "execution_count": null,
      "outputs": [
        {
          "output_type": "stream",
          "name": "stdout",
          "text": [
            "<class 'pandas.core.frame.DataFrame'>\n",
            "RangeIndex: 768 entries, 0 to 767\n",
            "Data columns (total 9 columns):\n",
            " #   Column                    Non-Null Count  Dtype  \n",
            "---  ------                    --------------  -----  \n",
            " 0   Pregnancies               768 non-null    int64  \n",
            " 1   Glucose                   768 non-null    int64  \n",
            " 2   BloodPressure             768 non-null    int64  \n",
            " 3   SkinThickness             768 non-null    int64  \n",
            " 4   Insulin                   768 non-null    int64  \n",
            " 5   BMI                       768 non-null    float64\n",
            " 6   DiabetesPedigreeFunction  768 non-null    float64\n",
            " 7   Age                       768 non-null    int64  \n",
            " 8   Outcome                   768 non-null    int64  \n",
            "dtypes: float64(2), int64(7)\n",
            "memory usage: 54.1 KB\n"
          ]
        }
      ]
    },
    {
      "cell_type": "code",
      "source": [
        "df.describe()"
      ],
      "metadata": {
        "colab": {
          "base_uri": "https://localhost:8080/",
          "height": 320
        },
        "id": "lPVWzo8wNqCW",
        "outputId": "ff814210-4bd3-4161-8193-7d54476023ab"
      },
      "execution_count": null,
      "outputs": [
        {
          "output_type": "execute_result",
          "data": {
            "text/plain": [
              "       Pregnancies     Glucose  BloodPressure  SkinThickness     Insulin  \\\n",
              "count   768.000000  768.000000     768.000000     768.000000  768.000000   \n",
              "mean      3.845052  120.894531      69.105469      20.536458   79.799479   \n",
              "std       3.369578   31.972618      19.355807      15.952218  115.244002   \n",
              "min       0.000000    0.000000       0.000000       0.000000    0.000000   \n",
              "25%       1.000000   99.000000      62.000000       0.000000    0.000000   \n",
              "50%       3.000000  117.000000      72.000000      23.000000   30.500000   \n",
              "75%       6.000000  140.250000      80.000000      32.000000  127.250000   \n",
              "max      17.000000  199.000000     122.000000      99.000000  846.000000   \n",
              "\n",
              "              BMI  DiabetesPedigreeFunction         Age     Outcome  \n",
              "count  768.000000                768.000000  768.000000  768.000000  \n",
              "mean    31.992578                  0.471876   33.240885    0.348958  \n",
              "std      7.884160                  0.331329   11.760232    0.476951  \n",
              "min      0.000000                  0.078000   21.000000    0.000000  \n",
              "25%     27.300000                  0.243750   24.000000    0.000000  \n",
              "50%     32.000000                  0.372500   29.000000    0.000000  \n",
              "75%     36.600000                  0.626250   41.000000    1.000000  \n",
              "max     67.100000                  2.420000   81.000000    1.000000  "
            ],
            "text/html": [
              "\n",
              "  <div id=\"df-45ca550c-9de2-4ebe-af5e-eec29852634c\" class=\"colab-df-container\">\n",
              "    <div>\n",
              "<style scoped>\n",
              "    .dataframe tbody tr th:only-of-type {\n",
              "        vertical-align: middle;\n",
              "    }\n",
              "\n",
              "    .dataframe tbody tr th {\n",
              "        vertical-align: top;\n",
              "    }\n",
              "\n",
              "    .dataframe thead th {\n",
              "        text-align: right;\n",
              "    }\n",
              "</style>\n",
              "<table border=\"1\" class=\"dataframe\">\n",
              "  <thead>\n",
              "    <tr style=\"text-align: right;\">\n",
              "      <th></th>\n",
              "      <th>Pregnancies</th>\n",
              "      <th>Glucose</th>\n",
              "      <th>BloodPressure</th>\n",
              "      <th>SkinThickness</th>\n",
              "      <th>Insulin</th>\n",
              "      <th>BMI</th>\n",
              "      <th>DiabetesPedigreeFunction</th>\n",
              "      <th>Age</th>\n",
              "      <th>Outcome</th>\n",
              "    </tr>\n",
              "  </thead>\n",
              "  <tbody>\n",
              "    <tr>\n",
              "      <th>count</th>\n",
              "      <td>768.000000</td>\n",
              "      <td>768.000000</td>\n",
              "      <td>768.000000</td>\n",
              "      <td>768.000000</td>\n",
              "      <td>768.000000</td>\n",
              "      <td>768.000000</td>\n",
              "      <td>768.000000</td>\n",
              "      <td>768.000000</td>\n",
              "      <td>768.000000</td>\n",
              "    </tr>\n",
              "    <tr>\n",
              "      <th>mean</th>\n",
              "      <td>3.845052</td>\n",
              "      <td>120.894531</td>\n",
              "      <td>69.105469</td>\n",
              "      <td>20.536458</td>\n",
              "      <td>79.799479</td>\n",
              "      <td>31.992578</td>\n",
              "      <td>0.471876</td>\n",
              "      <td>33.240885</td>\n",
              "      <td>0.348958</td>\n",
              "    </tr>\n",
              "    <tr>\n",
              "      <th>std</th>\n",
              "      <td>3.369578</td>\n",
              "      <td>31.972618</td>\n",
              "      <td>19.355807</td>\n",
              "      <td>15.952218</td>\n",
              "      <td>115.244002</td>\n",
              "      <td>7.884160</td>\n",
              "      <td>0.331329</td>\n",
              "      <td>11.760232</td>\n",
              "      <td>0.476951</td>\n",
              "    </tr>\n",
              "    <tr>\n",
              "      <th>min</th>\n",
              "      <td>0.000000</td>\n",
              "      <td>0.000000</td>\n",
              "      <td>0.000000</td>\n",
              "      <td>0.000000</td>\n",
              "      <td>0.000000</td>\n",
              "      <td>0.000000</td>\n",
              "      <td>0.078000</td>\n",
              "      <td>21.000000</td>\n",
              "      <td>0.000000</td>\n",
              "    </tr>\n",
              "    <tr>\n",
              "      <th>25%</th>\n",
              "      <td>1.000000</td>\n",
              "      <td>99.000000</td>\n",
              "      <td>62.000000</td>\n",
              "      <td>0.000000</td>\n",
              "      <td>0.000000</td>\n",
              "      <td>27.300000</td>\n",
              "      <td>0.243750</td>\n",
              "      <td>24.000000</td>\n",
              "      <td>0.000000</td>\n",
              "    </tr>\n",
              "    <tr>\n",
              "      <th>50%</th>\n",
              "      <td>3.000000</td>\n",
              "      <td>117.000000</td>\n",
              "      <td>72.000000</td>\n",
              "      <td>23.000000</td>\n",
              "      <td>30.500000</td>\n",
              "      <td>32.000000</td>\n",
              "      <td>0.372500</td>\n",
              "      <td>29.000000</td>\n",
              "      <td>0.000000</td>\n",
              "    </tr>\n",
              "    <tr>\n",
              "      <th>75%</th>\n",
              "      <td>6.000000</td>\n",
              "      <td>140.250000</td>\n",
              "      <td>80.000000</td>\n",
              "      <td>32.000000</td>\n",
              "      <td>127.250000</td>\n",
              "      <td>36.600000</td>\n",
              "      <td>0.626250</td>\n",
              "      <td>41.000000</td>\n",
              "      <td>1.000000</td>\n",
              "    </tr>\n",
              "    <tr>\n",
              "      <th>max</th>\n",
              "      <td>17.000000</td>\n",
              "      <td>199.000000</td>\n",
              "      <td>122.000000</td>\n",
              "      <td>99.000000</td>\n",
              "      <td>846.000000</td>\n",
              "      <td>67.100000</td>\n",
              "      <td>2.420000</td>\n",
              "      <td>81.000000</td>\n",
              "      <td>1.000000</td>\n",
              "    </tr>\n",
              "  </tbody>\n",
              "</table>\n",
              "</div>\n",
              "    <div class=\"colab-df-buttons\">\n",
              "\n",
              "  <div class=\"colab-df-container\">\n",
              "    <button class=\"colab-df-convert\" onclick=\"convertToInteractive('df-45ca550c-9de2-4ebe-af5e-eec29852634c')\"\n",
              "            title=\"Convert this dataframe to an interactive table.\"\n",
              "            style=\"display:none;\">\n",
              "\n",
              "  <svg xmlns=\"http://www.w3.org/2000/svg\" height=\"24px\" viewBox=\"0 -960 960 960\">\n",
              "    <path d=\"M120-120v-720h720v720H120Zm60-500h600v-160H180v160Zm220 220h160v-160H400v160Zm0 220h160v-160H400v160ZM180-400h160v-160H180v160Zm440 0h160v-160H620v160ZM180-180h160v-160H180v160Zm440 0h160v-160H620v160Z\"/>\n",
              "  </svg>\n",
              "    </button>\n",
              "\n",
              "  <style>\n",
              "    .colab-df-container {\n",
              "      display:flex;\n",
              "      gap: 12px;\n",
              "    }\n",
              "\n",
              "    .colab-df-convert {\n",
              "      background-color: #E8F0FE;\n",
              "      border: none;\n",
              "      border-radius: 50%;\n",
              "      cursor: pointer;\n",
              "      display: none;\n",
              "      fill: #1967D2;\n",
              "      height: 32px;\n",
              "      padding: 0 0 0 0;\n",
              "      width: 32px;\n",
              "    }\n",
              "\n",
              "    .colab-df-convert:hover {\n",
              "      background-color: #E2EBFA;\n",
              "      box-shadow: 0px 1px 2px rgba(60, 64, 67, 0.3), 0px 1px 3px 1px rgba(60, 64, 67, 0.15);\n",
              "      fill: #174EA6;\n",
              "    }\n",
              "\n",
              "    .colab-df-buttons div {\n",
              "      margin-bottom: 4px;\n",
              "    }\n",
              "\n",
              "    [theme=dark] .colab-df-convert {\n",
              "      background-color: #3B4455;\n",
              "      fill: #D2E3FC;\n",
              "    }\n",
              "\n",
              "    [theme=dark] .colab-df-convert:hover {\n",
              "      background-color: #434B5C;\n",
              "      box-shadow: 0px 1px 3px 1px rgba(0, 0, 0, 0.15);\n",
              "      filter: drop-shadow(0px 1px 2px rgba(0, 0, 0, 0.3));\n",
              "      fill: #FFFFFF;\n",
              "    }\n",
              "  </style>\n",
              "\n",
              "    <script>\n",
              "      const buttonEl =\n",
              "        document.querySelector('#df-45ca550c-9de2-4ebe-af5e-eec29852634c button.colab-df-convert');\n",
              "      buttonEl.style.display =\n",
              "        google.colab.kernel.accessAllowed ? 'block' : 'none';\n",
              "\n",
              "      async function convertToInteractive(key) {\n",
              "        const element = document.querySelector('#df-45ca550c-9de2-4ebe-af5e-eec29852634c');\n",
              "        const dataTable =\n",
              "          await google.colab.kernel.invokeFunction('convertToInteractive',\n",
              "                                                    [key], {});\n",
              "        if (!dataTable) return;\n",
              "\n",
              "        const docLinkHtml = 'Like what you see? Visit the ' +\n",
              "          '<a target=\"_blank\" href=https://colab.research.google.com/notebooks/data_table.ipynb>data table notebook</a>'\n",
              "          + ' to learn more about interactive tables.';\n",
              "        element.innerHTML = '';\n",
              "        dataTable['output_type'] = 'display_data';\n",
              "        await google.colab.output.renderOutput(dataTable, element);\n",
              "        const docLink = document.createElement('div');\n",
              "        docLink.innerHTML = docLinkHtml;\n",
              "        element.appendChild(docLink);\n",
              "      }\n",
              "    </script>\n",
              "  </div>\n",
              "\n",
              "\n",
              "<div id=\"df-c1b8b239-bcb5-411b-9e1c-a5cb977e5800\">\n",
              "  <button class=\"colab-df-quickchart\" onclick=\"quickchart('df-c1b8b239-bcb5-411b-9e1c-a5cb977e5800')\"\n",
              "            title=\"Suggest charts\"\n",
              "            style=\"display:none;\">\n",
              "\n",
              "<svg xmlns=\"http://www.w3.org/2000/svg\" height=\"24px\"viewBox=\"0 0 24 24\"\n",
              "     width=\"24px\">\n",
              "    <g>\n",
              "        <path d=\"M19 3H5c-1.1 0-2 .9-2 2v14c0 1.1.9 2 2 2h14c1.1 0 2-.9 2-2V5c0-1.1-.9-2-2-2zM9 17H7v-7h2v7zm4 0h-2V7h2v10zm4 0h-2v-4h2v4z\"/>\n",
              "    </g>\n",
              "</svg>\n",
              "  </button>\n",
              "\n",
              "<style>\n",
              "  .colab-df-quickchart {\n",
              "      --bg-color: #E8F0FE;\n",
              "      --fill-color: #1967D2;\n",
              "      --hover-bg-color: #E2EBFA;\n",
              "      --hover-fill-color: #174EA6;\n",
              "      --disabled-fill-color: #AAA;\n",
              "      --disabled-bg-color: #DDD;\n",
              "  }\n",
              "\n",
              "  [theme=dark] .colab-df-quickchart {\n",
              "      --bg-color: #3B4455;\n",
              "      --fill-color: #D2E3FC;\n",
              "      --hover-bg-color: #434B5C;\n",
              "      --hover-fill-color: #FFFFFF;\n",
              "      --disabled-bg-color: #3B4455;\n",
              "      --disabled-fill-color: #666;\n",
              "  }\n",
              "\n",
              "  .colab-df-quickchart {\n",
              "    background-color: var(--bg-color);\n",
              "    border: none;\n",
              "    border-radius: 50%;\n",
              "    cursor: pointer;\n",
              "    display: none;\n",
              "    fill: var(--fill-color);\n",
              "    height: 32px;\n",
              "    padding: 0;\n",
              "    width: 32px;\n",
              "  }\n",
              "\n",
              "  .colab-df-quickchart:hover {\n",
              "    background-color: var(--hover-bg-color);\n",
              "    box-shadow: 0 1px 2px rgba(60, 64, 67, 0.3), 0 1px 3px 1px rgba(60, 64, 67, 0.15);\n",
              "    fill: var(--button-hover-fill-color);\n",
              "  }\n",
              "\n",
              "  .colab-df-quickchart-complete:disabled,\n",
              "  .colab-df-quickchart-complete:disabled:hover {\n",
              "    background-color: var(--disabled-bg-color);\n",
              "    fill: var(--disabled-fill-color);\n",
              "    box-shadow: none;\n",
              "  }\n",
              "\n",
              "  .colab-df-spinner {\n",
              "    border: 2px solid var(--fill-color);\n",
              "    border-color: transparent;\n",
              "    border-bottom-color: var(--fill-color);\n",
              "    animation:\n",
              "      spin 1s steps(1) infinite;\n",
              "  }\n",
              "\n",
              "  @keyframes spin {\n",
              "    0% {\n",
              "      border-color: transparent;\n",
              "      border-bottom-color: var(--fill-color);\n",
              "      border-left-color: var(--fill-color);\n",
              "    }\n",
              "    20% {\n",
              "      border-color: transparent;\n",
              "      border-left-color: var(--fill-color);\n",
              "      border-top-color: var(--fill-color);\n",
              "    }\n",
              "    30% {\n",
              "      border-color: transparent;\n",
              "      border-left-color: var(--fill-color);\n",
              "      border-top-color: var(--fill-color);\n",
              "      border-right-color: var(--fill-color);\n",
              "    }\n",
              "    40% {\n",
              "      border-color: transparent;\n",
              "      border-right-color: var(--fill-color);\n",
              "      border-top-color: var(--fill-color);\n",
              "    }\n",
              "    60% {\n",
              "      border-color: transparent;\n",
              "      border-right-color: var(--fill-color);\n",
              "    }\n",
              "    80% {\n",
              "      border-color: transparent;\n",
              "      border-right-color: var(--fill-color);\n",
              "      border-bottom-color: var(--fill-color);\n",
              "    }\n",
              "    90% {\n",
              "      border-color: transparent;\n",
              "      border-bottom-color: var(--fill-color);\n",
              "    }\n",
              "  }\n",
              "</style>\n",
              "\n",
              "  <script>\n",
              "    async function quickchart(key) {\n",
              "      const quickchartButtonEl =\n",
              "        document.querySelector('#' + key + ' button');\n",
              "      quickchartButtonEl.disabled = true;  // To prevent multiple clicks.\n",
              "      quickchartButtonEl.classList.add('colab-df-spinner');\n",
              "      try {\n",
              "        const charts = await google.colab.kernel.invokeFunction(\n",
              "            'suggestCharts', [key], {});\n",
              "      } catch (error) {\n",
              "        console.error('Error during call to suggestCharts:', error);\n",
              "      }\n",
              "      quickchartButtonEl.classList.remove('colab-df-spinner');\n",
              "      quickchartButtonEl.classList.add('colab-df-quickchart-complete');\n",
              "    }\n",
              "    (() => {\n",
              "      let quickchartButtonEl =\n",
              "        document.querySelector('#df-c1b8b239-bcb5-411b-9e1c-a5cb977e5800 button');\n",
              "      quickchartButtonEl.style.display =\n",
              "        google.colab.kernel.accessAllowed ? 'block' : 'none';\n",
              "    })();\n",
              "  </script>\n",
              "</div>\n",
              "\n",
              "    </div>\n",
              "  </div>\n"
            ],
            "application/vnd.google.colaboratory.intrinsic+json": {
              "type": "dataframe",
              "summary": "{\n  \"name\": \"df\",\n  \"rows\": 8,\n  \"fields\": [\n    {\n      \"column\": \"Pregnancies\",\n      \"properties\": {\n        \"dtype\": \"number\",\n        \"std\": 269.85223453356366,\n        \"min\": 0.0,\n        \"max\": 768.0,\n        \"num_unique_values\": 8,\n        \"samples\": [\n          3.8450520833333335,\n          3.0,\n          768.0\n        ],\n        \"semantic_type\": \"\",\n        \"description\": \"\"\n      }\n    },\n    {\n      \"column\": \"Glucose\",\n      \"properties\": {\n        \"dtype\": \"number\",\n        \"std\": 243.73802348295857,\n        \"min\": 0.0,\n        \"max\": 768.0,\n        \"num_unique_values\": 8,\n        \"samples\": [\n          120.89453125,\n          117.0,\n          768.0\n        ],\n        \"semantic_type\": \"\",\n        \"description\": \"\"\n      }\n    },\n    {\n      \"column\": \"BloodPressure\",\n      \"properties\": {\n        \"dtype\": \"number\",\n        \"std\": 252.8525053581062,\n        \"min\": 0.0,\n        \"max\": 768.0,\n        \"num_unique_values\": 8,\n        \"samples\": [\n          69.10546875,\n          72.0,\n          768.0\n        ],\n        \"semantic_type\": \"\",\n        \"description\": \"\"\n      }\n    },\n    {\n      \"column\": \"SkinThickness\",\n      \"properties\": {\n        \"dtype\": \"number\",\n        \"std\": 263.7684730531098,\n        \"min\": 0.0,\n        \"max\": 768.0,\n        \"num_unique_values\": 7,\n        \"samples\": [\n          768.0,\n          20.536458333333332,\n          32.0\n        ],\n        \"semantic_type\": \"\",\n        \"description\": \"\"\n      }\n    },\n    {\n      \"column\": \"Insulin\",\n      \"properties\": {\n        \"dtype\": \"number\",\n        \"std\": 350.26059167945886,\n        \"min\": 0.0,\n        \"max\": 846.0,\n        \"num_unique_values\": 7,\n        \"samples\": [\n          768.0,\n          79.79947916666667,\n          127.25\n        ],\n        \"semantic_type\": \"\",\n        \"description\": \"\"\n      }\n    },\n    {\n      \"column\": \"BMI\",\n      \"properties\": {\n        \"dtype\": \"number\",\n        \"std\": 262.05117817552093,\n        \"min\": 0.0,\n        \"max\": 768.0,\n        \"num_unique_values\": 8,\n        \"samples\": [\n          31.992578124999998,\n          32.0,\n          768.0\n        ],\n        \"semantic_type\": \"\",\n        \"description\": \"\"\n      }\n    },\n    {\n      \"column\": \"DiabetesPedigreeFunction\",\n      \"properties\": {\n        \"dtype\": \"number\",\n        \"std\": 271.3005221658502,\n        \"min\": 0.078,\n        \"max\": 768.0,\n        \"num_unique_values\": 8,\n        \"samples\": [\n          0.47187630208333325,\n          0.3725,\n          768.0\n        ],\n        \"semantic_type\": \"\",\n        \"description\": \"\"\n      }\n    },\n    {\n      \"column\": \"Age\",\n      \"properties\": {\n        \"dtype\": \"number\",\n        \"std\": 260.1941178528413,\n        \"min\": 11.760231540678685,\n        \"max\": 768.0,\n        \"num_unique_values\": 8,\n        \"samples\": [\n          33.240885416666664,\n          29.0,\n          768.0\n        ],\n        \"semantic_type\": \"\",\n        \"description\": \"\"\n      }\n    },\n    {\n      \"column\": \"Outcome\",\n      \"properties\": {\n        \"dtype\": \"number\",\n        \"std\": 271.3865920388932,\n        \"min\": 0.0,\n        \"max\": 768.0,\n        \"num_unique_values\": 5,\n        \"samples\": [\n          0.3489583333333333,\n          1.0,\n          0.47695137724279896\n        ],\n        \"semantic_type\": \"\",\n        \"description\": \"\"\n      }\n    }\n  ]\n}"
            }
          },
          "metadata": {},
          "execution_count": 27
        }
      ]
    },
    {
      "cell_type": "code",
      "source": [
        "# Separating features and target\n",
        "X = df.drop(columns=\"Outcome\", axis=1)\n",
        "Y = df['Outcome']"
      ],
      "metadata": {
        "id": "hiI8dE7MNuEj"
      },
      "execution_count": null,
      "outputs": []
    },
    {
      "cell_type": "code",
      "source": [
        "# Converting the data to numpy array\n",
        "X = X.to_numpy()\n",
        "Y = Y.to_numpy()"
      ],
      "metadata": {
        "id": "M7IG6b4YOENi"
      },
      "execution_count": null,
      "outputs": []
    },
    {
      "cell_type": "code",
      "source": [
        "print(X)\n",
        "print(Y)"
      ],
      "metadata": {
        "colab": {
          "base_uri": "https://localhost:8080/"
        },
        "id": "IIq4_lCYOXJ9",
        "outputId": "59566195-e13d-4460-bbd8-cfc0ab244bca"
      },
      "execution_count": null,
      "outputs": [
        {
          "output_type": "stream",
          "name": "stdout",
          "text": [
            "[[  6.    148.     72.    ...  33.6     0.627  50.   ]\n",
            " [  1.     85.     66.    ...  26.6     0.351  31.   ]\n",
            " [  8.    183.     64.    ...  23.3     0.672  32.   ]\n",
            " ...\n",
            " [  5.    121.     72.    ...  26.2     0.245  30.   ]\n",
            " [  1.    126.     60.    ...  30.1     0.349  47.   ]\n",
            " [  1.     93.     70.    ...  30.4     0.315  23.   ]]\n",
            "[1 0 1 0 1 0 1 0 1 1 0 1 0 1 1 1 1 1 0 1 0 0 1 1 1 1 1 0 0 0 0 1 0 0 0 0 0\n",
            " 1 1 1 0 0 0 1 0 1 0 0 1 0 0 0 0 1 0 0 1 0 0 0 0 1 0 0 1 0 1 0 0 0 1 0 1 0\n",
            " 0 0 0 0 1 0 0 0 0 0 1 0 0 0 1 0 0 0 0 1 0 0 0 0 0 1 1 0 0 0 0 0 0 0 0 1 1\n",
            " 1 0 0 1 1 1 0 0 0 1 0 0 0 1 1 0 0 1 1 1 1 1 0 0 0 0 0 0 0 0 0 0 1 0 0 0 0\n",
            " 0 0 0 0 1 0 1 1 0 0 0 1 0 0 0 0 1 1 0 0 0 0 1 1 0 0 0 1 0 1 0 1 0 0 0 0 0\n",
            " 1 1 1 1 1 0 0 1 1 0 1 0 1 1 1 0 0 0 0 0 0 1 1 0 1 0 0 0 1 1 1 1 0 1 1 1 1\n",
            " 0 0 0 0 0 1 0 0 1 1 0 0 0 1 1 1 1 0 0 0 1 1 0 1 0 0 0 0 0 0 0 0 1 1 0 0 0\n",
            " 1 0 1 0 0 1 0 1 0 0 1 1 0 0 0 0 0 1 0 0 0 1 0 0 1 1 0 0 1 0 0 0 1 1 1 0 0\n",
            " 1 0 1 0 1 1 0 1 0 0 1 0 1 1 0 0 1 0 1 0 0 1 0 1 0 1 1 1 0 0 1 0 1 0 0 0 1\n",
            " 0 0 0 0 1 1 1 0 0 0 0 0 0 0 0 0 1 0 0 0 0 0 1 1 1 0 1 1 0 0 1 0 0 1 0 0 1\n",
            " 1 0 0 0 0 1 0 0 1 0 0 0 0 0 0 0 1 1 1 0 0 1 0 0 1 0 0 1 0 1 1 0 1 0 1 0 1\n",
            " 0 1 1 0 0 0 0 1 1 0 1 0 1 0 0 0 0 1 1 0 1 0 1 0 0 0 0 0 1 0 0 0 0 1 0 0 1\n",
            " 1 1 0 0 1 0 0 1 0 0 0 1 0 0 1 0 0 0 0 0 0 0 0 0 1 0 0 0 0 0 0 0 1 0 0 0 1\n",
            " 0 0 0 1 1 0 0 0 0 0 0 0 1 0 0 0 0 1 0 0 0 1 0 0 0 1 0 0 0 1 0 0 0 0 1 1 0\n",
            " 0 0 0 0 0 1 0 0 0 0 0 0 0 0 0 0 0 1 0 0 0 1 1 1 1 0 0 1 1 0 0 0 0 0 0 0 0\n",
            " 0 0 0 0 0 1 1 0 0 0 0 0 0 0 1 0 0 0 0 0 0 0 1 0 1 1 0 0 0 1 0 1 0 1 0 1 0\n",
            " 1 0 0 1 0 0 1 0 0 0 0 1 1 0 1 0 0 0 0 1 1 0 1 0 0 0 1 1 0 0 0 0 0 0 0 0 0\n",
            " 0 1 0 0 0 0 1 0 0 1 0 0 0 1 0 0 0 1 1 1 0 0 0 0 0 0 1 0 0 0 1 0 1 1 1 1 0\n",
            " 1 1 0 0 0 0 0 0 0 1 1 0 1 0 0 1 0 1 0 0 0 0 0 1 0 1 0 1 0 1 1 0 0 0 0 1 1\n",
            " 0 0 0 1 0 1 1 0 0 1 0 0 1 1 0 0 1 0 0 1 0 0 0 0 0 0 0 1 1 1 0 0 0 0 0 0 1\n",
            " 1 0 0 1 0 0 1 0 1 1 1 0 0 1 1 1 0 1 0 1 0 1 0 0 0 0 1 0]\n"
          ]
        }
      ]
    },
    {
      "cell_type": "code",
      "source": [
        "# train test split\n",
        "X_train, X_test, Y_train, Y_test = train_test_split(X, Y, test_size=0.2, stratify=Y, random_state=2)\n",
        "# startify=Y is used so that there is an even split of 0s and 1s in training as well as test data"
      ],
      "metadata": {
        "id": "8iJ7J-SAObTt"
      },
      "execution_count": null,
      "outputs": []
    },
    {
      "cell_type": "code",
      "source": [
        "print(X.shape, X_train.shape, X_test.shape)"
      ],
      "metadata": {
        "colab": {
          "base_uri": "https://localhost:8080/"
        },
        "id": "lZHKG2PnPjZS",
        "outputId": "2aa8a650-db82-46d5-9253-c822a6434386"
      },
      "execution_count": null,
      "outputs": [
        {
          "output_type": "stream",
          "name": "stdout",
          "text": [
            "(768, 8) (614, 8) (154, 8)\n"
          ]
        }
      ]
    },
    {
      "cell_type": "code",
      "source": [
        "X_train"
      ],
      "metadata": {
        "colab": {
          "base_uri": "https://localhost:8080/"
        },
        "id": "GFADHs9YPssa",
        "outputId": "c9b9611f-236a-4287-8d3a-5e7412dc1979"
      },
      "execution_count": null,
      "outputs": [
        {
          "output_type": "execute_result",
          "data": {
            "text/plain": [
              "array([[0.00e+00, 1.19e+02, 0.00e+00, ..., 3.24e+01, 1.41e-01, 2.40e+01],\n",
              "       [6.00e+00, 1.05e+02, 7.00e+01, ..., 3.08e+01, 1.22e-01, 3.70e+01],\n",
              "       [1.00e+00, 1.89e+02, 6.00e+01, ..., 3.01e+01, 3.98e-01, 5.90e+01],\n",
              "       ...,\n",
              "       [1.10e+01, 8.50e+01, 7.40e+01, ..., 3.01e+01, 3.00e-01, 3.50e+01],\n",
              "       [4.00e+00, 1.12e+02, 7.80e+01, ..., 3.94e+01, 2.36e-01, 3.80e+01],\n",
              "       [0.00e+00, 8.60e+01, 6.80e+01, ..., 3.58e+01, 2.38e-01, 2.50e+01]])"
            ]
          },
          "metadata": {},
          "execution_count": 33
        }
      ]
    },
    {
      "cell_type": "code",
      "source": [
        "X_train = np.insert(X_train, 8, Y_train, axis=1)"
      ],
      "metadata": {
        "id": "K9dDbRjSPwrD"
      },
      "execution_count": null,
      "outputs": []
    },
    {
      "cell_type": "code",
      "source": [
        "X_train"
      ],
      "metadata": {
        "colab": {
          "base_uri": "https://localhost:8080/"
        },
        "id": "lTHsslV7Qbef",
        "outputId": "9a2d82e5-dc96-4b77-d95b-7bf34a72e76a"
      },
      "execution_count": null,
      "outputs": [
        {
          "output_type": "execute_result",
          "data": {
            "text/plain": [
              "array([[0.00e+00, 1.19e+02, 0.00e+00, ..., 1.41e-01, 2.40e+01, 1.00e+00],\n",
              "       [6.00e+00, 1.05e+02, 7.00e+01, ..., 1.22e-01, 3.70e+01, 0.00e+00],\n",
              "       [1.00e+00, 1.89e+02, 6.00e+01, ..., 3.98e-01, 5.90e+01, 1.00e+00],\n",
              "       ...,\n",
              "       [1.10e+01, 8.50e+01, 7.40e+01, ..., 3.00e-01, 3.50e+01, 0.00e+00],\n",
              "       [4.00e+00, 1.12e+02, 7.80e+01, ..., 2.36e-01, 3.80e+01, 0.00e+00],\n",
              "       [0.00e+00, 8.60e+01, 6.80e+01, ..., 2.38e-01, 2.50e+01, 0.00e+00]])"
            ]
          },
          "metadata": {},
          "execution_count": 35
        }
      ]
    },
    {
      "cell_type": "code",
      "source": [
        "X_train.shape"
      ],
      "metadata": {
        "colab": {
          "base_uri": "https://localhost:8080/"
        },
        "id": "HF4fkGeCQeDX",
        "outputId": "496a6178-fb6d-42d3-8371-18aaf5402138"
      },
      "execution_count": null,
      "outputs": [
        {
          "output_type": "execute_result",
          "data": {
            "text/plain": [
              "(614, 9)"
            ]
          },
          "metadata": {},
          "execution_count": 36
        }
      ]
    },
    {
      "cell_type": "code",
      "source": [
        "print(X_train[:,8])"
      ],
      "metadata": {
        "colab": {
          "base_uri": "https://localhost:8080/"
        },
        "id": "kTYMzTyQQoty",
        "outputId": "8c7abd79-8f68-4117-82bc-d60720a23220"
      },
      "execution_count": null,
      "outputs": [
        {
          "output_type": "stream",
          "name": "stdout",
          "text": [
            "[1. 0. 1. 1. 1. 1. 0. 1. 0. 0. 1. 1. 0. 0. 0. 0. 0. 0. 0. 1. 0. 0. 0. 0.\n",
            " 0. 0. 1. 1. 0. 1. 0. 0. 0. 0. 1. 1. 0. 0. 0. 0. 0. 1. 0. 0. 0. 0. 0. 0.\n",
            " 1. 0. 1. 0. 0. 0. 0. 0. 1. 0. 1. 0. 0. 0. 0. 0. 0. 0. 0. 1. 1. 1. 0. 0.\n",
            " 0. 1. 1. 0. 1. 0. 1. 0. 0. 1. 1. 0. 0. 0. 0. 1. 1. 0. 0. 0. 1. 0. 0. 1.\n",
            " 0. 0. 1. 1. 0. 1. 0. 0. 1. 0. 0. 0. 0. 0. 0. 0. 1. 0. 0. 0. 0. 0. 1. 1.\n",
            " 0. 0. 1. 0. 0. 1. 0. 1. 0. 1. 1. 1. 1. 0. 0. 0. 0. 1. 0. 0. 0. 1. 0. 0.\n",
            " 0. 1. 1. 0. 1. 1. 0. 1. 1. 1. 1. 0. 0. 0. 1. 0. 0. 1. 0. 1. 0. 0. 1. 0.\n",
            " 0. 0. 0. 1. 0. 1. 1. 0. 1. 1. 0. 0. 0. 1. 0. 0. 0. 0. 1. 0. 1. 0. 1. 0.\n",
            " 0. 1. 0. 1. 0. 0. 1. 0. 1. 0. 0. 1. 1. 0. 1. 0. 0. 0. 0. 0. 0. 0. 1. 0.\n",
            " 1. 0. 0. 0. 1. 0. 0. 1. 1. 0. 0. 1. 0. 0. 1. 0. 0. 0. 1. 1. 1. 0. 0. 0.\n",
            " 0. 0. 0. 1. 0. 0. 0. 0. 0. 0. 1. 1. 0. 1. 0. 1. 1. 1. 1. 0. 0. 1. 0. 0.\n",
            " 1. 1. 0. 0. 0. 0. 1. 0. 0. 0. 1. 1. 1. 1. 1. 0. 1. 1. 0. 0. 0. 0. 0. 0.\n",
            " 0. 0. 0. 0. 0. 0. 1. 1. 0. 0. 0. 0. 1. 1. 0. 0. 0. 0. 0. 0. 0. 0. 0. 0.\n",
            " 1. 0. 1. 0. 0. 0. 1. 1. 1. 0. 0. 0. 0. 1. 0. 0. 0. 0. 0. 0. 0. 0. 1. 0.\n",
            " 0. 0. 0. 0. 0. 1. 1. 0. 0. 0. 0. 1. 1. 0. 1. 0. 0. 0. 1. 0. 0. 0. 0. 1.\n",
            " 0. 1. 0. 1. 1. 0. 0. 0. 0. 0. 0. 1. 1. 1. 1. 0. 1. 1. 1. 0. 1. 0. 0. 0.\n",
            " 1. 0. 1. 0. 0. 0. 1. 0. 0. 1. 1. 0. 0. 0. 0. 0. 1. 0. 0. 0. 0. 1. 0. 1.\n",
            " 0. 0. 0. 0. 0. 0. 1. 0. 0. 0. 0. 1. 0. 0. 0. 0. 0. 1. 0. 0. 0. 1. 0. 0.\n",
            " 0. 0. 1. 0. 1. 0. 0. 1. 0. 0. 0. 0. 1. 1. 1. 0. 0. 0. 1. 0. 0. 0. 1. 1.\n",
            " 0. 0. 1. 1. 0. 0. 0. 1. 0. 1. 1. 0. 1. 0. 0. 1. 1. 0. 0. 0. 0. 0. 1. 0.\n",
            " 1. 0. 0. 0. 0. 0. 0. 1. 0. 0. 0. 1. 0. 0. 0. 0. 1. 0. 0. 1. 0. 0. 1. 1.\n",
            " 0. 1. 0. 0. 1. 1. 0. 1. 0. 0. 1. 1. 0. 0. 0. 1. 0. 1. 0. 1. 1. 0. 0. 0.\n",
            " 0. 0. 0. 1. 0. 0. 1. 0. 1. 1. 1. 1. 1. 1. 0. 1. 1. 0. 1. 0. 1. 1. 0. 1.\n",
            " 0. 1. 0. 0. 0. 0. 0. 0. 0. 1. 0. 0. 0. 0. 0. 1. 1. 0. 1. 1. 0. 0. 1. 0.\n",
            " 1. 1. 1. 0. 0. 0. 0. 0. 0. 0. 0. 1. 0. 1. 0. 0. 0. 0. 0. 0. 1. 0. 0. 0.\n",
            " 1. 1. 0. 1. 0. 0. 1. 0. 0. 1. 1. 0. 0. 0.]\n"
          ]
        }
      ]
    },
    {
      "cell_type": "markdown",
      "source": [
        "**X_train --> training data with features and target**\n",
        "\n",
        "**X_test --> test data without target**"
      ],
      "metadata": {
        "id": "3-oLCqkERG34"
      }
    },
    {
      "cell_type": "markdown",
      "source": [
        "**Model Training : KNN Classifier**"
      ],
      "metadata": {
        "id": "4bbaY7efRUtI"
      }
    },
    {
      "cell_type": "code",
      "source": [
        "classifier = KNN_Classifier(distance_metric='euclidean')"
      ],
      "metadata": {
        "id": "n79QIM91Q-Cl"
      },
      "execution_count": null,
      "outputs": []
    },
    {
      "cell_type": "markdown",
      "source": [
        "**NOTE : THE KNN CLASSIFIERN can predict the label for only one data at a time**"
      ],
      "metadata": {
        "id": "dlfylk6nSDBb"
      }
    },
    {
      "cell_type": "code",
      "source": [
        "prediction = classifier.predict(X_train, X_test[0], k=5)"
      ],
      "metadata": {
        "colab": {
          "base_uri": "https://localhost:8080/",
          "height": 287
        },
        "id": "wny2ZjsXR8fw",
        "outputId": "9356ec89-c0fc-4098-f229-bc59910f4497"
      },
      "execution_count": null,
      "outputs": [
        {
          "output_type": "error",
          "ename": "TypeError",
          "evalue": "'str' object is not callable",
          "traceback": [
            "\u001b[0;31m---------------------------------------------------------------------------\u001b[0m",
            "\u001b[0;31mTypeError\u001b[0m                                 Traceback (most recent call last)",
            "\u001b[0;32m<ipython-input-39-59b35209f2ac>\u001b[0m in \u001b[0;36m<cell line: 1>\u001b[0;34m()\u001b[0m\n\u001b[0;32m----> 1\u001b[0;31m \u001b[0mprediction\u001b[0m \u001b[0;34m=\u001b[0m \u001b[0mclassifier\u001b[0m\u001b[0;34m.\u001b[0m\u001b[0mpredict\u001b[0m\u001b[0;34m(\u001b[0m\u001b[0mX_train\u001b[0m\u001b[0;34m,\u001b[0m \u001b[0mX_test\u001b[0m\u001b[0;34m[\u001b[0m\u001b[0;36m0\u001b[0m\u001b[0;34m]\u001b[0m\u001b[0;34m,\u001b[0m \u001b[0mk\u001b[0m\u001b[0;34m=\u001b[0m\u001b[0;36m5\u001b[0m\u001b[0;34m)\u001b[0m\u001b[0;34m\u001b[0m\u001b[0;34m\u001b[0m\u001b[0m\n\u001b[0m",
            "\u001b[0;32m<ipython-input-21-e85f043e6683>\u001b[0m in \u001b[0;36mpredict\u001b[0;34m(self, X_train, test_data, k)\u001b[0m\n\u001b[1;32m     47\u001b[0m   \u001b[0;32mdef\u001b[0m \u001b[0mpredict\u001b[0m\u001b[0;34m(\u001b[0m\u001b[0mself\u001b[0m\u001b[0;34m,\u001b[0m\u001b[0mX_train\u001b[0m\u001b[0;34m,\u001b[0m \u001b[0mtest_data\u001b[0m\u001b[0;34m,\u001b[0m \u001b[0mk\u001b[0m\u001b[0;34m)\u001b[0m\u001b[0;34m:\u001b[0m\u001b[0;34m\u001b[0m\u001b[0;34m\u001b[0m\u001b[0m\n\u001b[1;32m     48\u001b[0m \u001b[0;34m\u001b[0m\u001b[0m\n\u001b[0;32m---> 49\u001b[0;31m     \u001b[0mneighbors\u001b[0m \u001b[0;34m=\u001b[0m \u001b[0mself\u001b[0m\u001b[0;34m.\u001b[0m\u001b[0mnearest_neighbors\u001b[0m\u001b[0;34m(\u001b[0m\u001b[0mX_train\u001b[0m\u001b[0;34m,\u001b[0m \u001b[0mtest_data\u001b[0m\u001b[0;34m,\u001b[0m \u001b[0mk\u001b[0m\u001b[0;34m)\u001b[0m\u001b[0;34m\u001b[0m\u001b[0;34m\u001b[0m\u001b[0m\n\u001b[0m\u001b[1;32m     50\u001b[0m \u001b[0;34m\u001b[0m\u001b[0m\n\u001b[1;32m     51\u001b[0m     \u001b[0;32mfor\u001b[0m \u001b[0mdata\u001b[0m \u001b[0;32min\u001b[0m \u001b[0mneighbors\u001b[0m\u001b[0;34m:\u001b[0m\u001b[0;34m\u001b[0m\u001b[0;34m\u001b[0m\u001b[0m\n",
            "\u001b[0;32m<ipython-input-21-e85f043e6683>\u001b[0m in \u001b[0;36mnearest_neighbors\u001b[0;34m(self, X_train, test_data, k)\u001b[0m\n\u001b[1;32m     33\u001b[0m     \u001b[0;32mfor\u001b[0m \u001b[0mtraining_data\u001b[0m \u001b[0;32min\u001b[0m \u001b[0mX_train\u001b[0m\u001b[0;34m:\u001b[0m\u001b[0;34m\u001b[0m\u001b[0;34m\u001b[0m\u001b[0m\n\u001b[1;32m     34\u001b[0m \u001b[0;34m\u001b[0m\u001b[0m\n\u001b[0;32m---> 35\u001b[0;31m       \u001b[0mdistance\u001b[0m \u001b[0;34m=\u001b[0m \u001b[0mself\u001b[0m\u001b[0;34m.\u001b[0m\u001b[0mget_distance_metric\u001b[0m\u001b[0;34m(\u001b[0m\u001b[0mtraining_data\u001b[0m\u001b[0;34m,\u001b[0m \u001b[0mtest_data\u001b[0m\u001b[0;34m)\u001b[0m\u001b[0;34m\u001b[0m\u001b[0;34m\u001b[0m\u001b[0m\n\u001b[0m\u001b[1;32m     36\u001b[0m       \u001b[0mdistance_list\u001b[0m\u001b[0;34m.\u001b[0m\u001b[0mappend\u001b[0m\u001b[0;34m(\u001b[0m\u001b[0mtraining_data\u001b[0m\u001b[0;34m,\u001b[0m \u001b[0mdistance\u001b[0m\u001b[0;34m)\u001b[0m\u001b[0;34m\u001b[0m\u001b[0;34m\u001b[0m\u001b[0m\n\u001b[1;32m     37\u001b[0m \u001b[0;34m\u001b[0m\u001b[0m\n",
            "\u001b[0;31mTypeError\u001b[0m: 'str' object is not callable"
          ]
        }
      ]
    },
    {
      "cell_type": "code",
      "source": [],
      "metadata": {
        "id": "D7_039czSmPT"
      },
      "execution_count": null,
      "outputs": []
    }
  ]
}