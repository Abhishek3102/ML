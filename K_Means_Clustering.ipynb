{
  "nbformat": 4,
  "nbformat_minor": 0,
  "metadata": {
    "colab": {
      "provenance": [],
      "authorship_tag": "ABX9TyOjNSN4UF9PMUM4QWIz4pyQ",
      "include_colab_link": true
    },
    "kernelspec": {
      "name": "python3",
      "display_name": "Python 3"
    },
    "language_info": {
      "name": "python"
    }
  },
  "cells": [
    {
      "cell_type": "markdown",
      "metadata": {
        "id": "view-in-github",
        "colab_type": "text"
      },
      "source": [
        "<a href=\"https://colab.research.google.com/github/Abhishek3102/ML/blob/main/K_Means_Clustering.ipynb\" target=\"_parent\"><img src=\"https://colab.research.google.com/assets/colab-badge.svg\" alt=\"Open In Colab\"/></a>"
      ]
    },
    {
      "cell_type": "code",
      "execution_count": 1,
      "metadata": {
        "id": "koPqSQa5puqA"
      },
      "outputs": [],
      "source": [
        "import random\n",
        "import numpy as np\n",
        "\n",
        "class KMeans:\n",
        "    def __init__(self,n_clusters=2,max_iter=100):\n",
        "        self.n_clusters = n_clusters\n",
        "        self.max_iter = max_iter\n",
        "        self.centroids = None\n",
        "\n",
        "    def fit_predict(self,X):\n",
        "\n",
        "        random_index = random.sample(range(0,X.shape[0]),self.n_clusters)\n",
        "        self.centroids = X[random_index]\n",
        "\n",
        "        for i in range(self.max_iter):\n",
        "            # assign clusters\n",
        "            cluster_group = self.assign_clusters(X)\n",
        "            old_centroids = self.centroids\n",
        "            # move centroids\n",
        "            self.centroids = self.move_centroids(X,cluster_group)\n",
        "            # check finish\n",
        "            if (old_centroids == self.centroids).all():\n",
        "                break\n",
        "\n",
        "        return cluster_group\n",
        "\n",
        "    def assign_clusters(self,X):\n",
        "        cluster_group = []\n",
        "        distances = []\n",
        "\n",
        "        for row in X:\n",
        "            for centroid in self.centroids:\n",
        "                distances.append(np.sqrt(np.dot(row-centroid,row-centroid)))\n",
        "            min_distance = min(distances)\n",
        "            index_pos = distances.index(min_distance)\n",
        "            cluster_group.append(index_pos)\n",
        "            distances.clear()\n",
        "\n",
        "        return np.array(cluster_group)\n",
        "\n",
        "    def move_centroids(self,X,cluster_group):\n",
        "        new_centroids = []\n",
        "\n",
        "        cluster_type = np.unique(cluster_group)\n",
        "\n",
        "        for type in cluster_type:\n",
        "            new_centroids.append(X[cluster_group == type].mean(axis=0))\n",
        "\n",
        "        return np.array(new_centroids)"
      ]
    },
    {
      "cell_type": "code",
      "source": [
        "!pip install kmeans"
      ],
      "metadata": {
        "colab": {
          "base_uri": "https://localhost:8080/",
          "height": 0
        },
        "id": "-JU7dC5ZqNyd",
        "outputId": "78d3bbbb-5a2e-4322-99a4-151291c3a699"
      },
      "execution_count": 3,
      "outputs": [
        {
          "output_type": "stream",
          "name": "stdout",
          "text": [
            "Collecting kmeans\n",
            "  Downloading kmeans-1.0.2.tar.gz (5.9 kB)\n",
            "  Preparing metadata (setup.py) ... \u001b[?25l\u001b[?25hdone\n",
            "Building wheels for collected packages: kmeans\n",
            "  Building wheel for kmeans (setup.py) ... \u001b[?25l\u001b[?25hdone\n",
            "  Created wheel for kmeans: filename=kmeans-1.0.2-cp312-cp312-linux_x86_64.whl size=12544 sha256=3df61c49d87fa92c70ff18f3cfc4303e7bd8ef4614ff74bdd157c60a40803a25\n",
            "  Stored in directory: /root/.cache/pip/wheels/da/91/c9/54cabb3877a559e9e03ba0c9d18f376990508ff238ead84ada\n",
            "Successfully built kmeans\n",
            "Installing collected packages: kmeans\n",
            "Successfully installed kmeans-1.0.2\n"
          ]
        }
      ]
    },
    {
      "cell_type": "code",
      "source": [
        "from sklearn.datasets import make_blobs\n",
        "import matplotlib.pyplot as plt\n",
        "# from kmeans import KMeans\n",
        "import pandas as pd\n",
        "\n",
        "#centroids = [(-5,-5),(5,5),(-2.5,2.5),(2.5,-2.5)]\n",
        "#cluster_std = [1,1,1,1]\n",
        "\n",
        "#X,y = make_blobs(n_samples=100,cluster_std=cluster_std,centers=centroids,n_features=2,random_state=2)\n",
        "\n",
        "#plt.scatter(X[:,0],X[:,1])\n",
        "\n",
        "df = pd.read_csv('/content/student_clustering.csv')\n",
        "\n",
        "X = df.iloc[:,:].values\n",
        "\n",
        "km = KMeans(n_clusters=4,max_iter=500)\n",
        "y_means = km.fit_predict(X)\n",
        "\n",
        "plt.scatter(X[y_means == 0,0],X[y_means == 0,1],color='red')\n",
        "plt.scatter(X[y_means == 1,0],X[y_means == 1,1],color='blue')\n",
        "plt.scatter(X[y_means == 2,0],X[y_means == 2,1],color='green')\n",
        "plt.scatter(X[y_means == 3,0],X[y_means == 3,1],color='yellow')\n",
        "plt.show()"
      ],
      "metadata": {
        "colab": {
          "base_uri": "https://localhost:8080/",
          "height": 430
        },
        "id": "GQFvF4D1p662",
        "outputId": "ef56d21f-1059-455c-bff2-1fde088e4ae8"
      },
      "execution_count": 5,
      "outputs": [
        {
          "output_type": "display_data",
          "data": {
            "text/plain": [
              "<Figure size 640x480 with 1 Axes>"
            ],
            "image/png": "[encoded data removed]"
          },
          "metadata": {}
        }
      ]
    },
    {
      "cell_type": "code",
      "source": [
        "import numpy as np\n",
        "import pandas as pd"
      ],
      "metadata": {
        "id": "YSRZSTxAqLsx"
      },
      "execution_count": 6,
      "outputs": []
    },
    {
      "cell_type": "code",
      "source": [
        "df = pd.read_csv(\"/content/student_clustering.csv\")\n",
        "df.head()"
      ],
      "metadata": {
        "colab": {
          "base_uri": "https://localhost:8080/",
          "height": 206
        },
        "id": "EFRNjW5gqtql",
        "outputId": "ded95235-4327-4d5f-c11a-c5f7bed97bda"
      },
      "execution_count": 7,
      "outputs": [
        {
          "output_type": "execute_result",
          "data": {
            "text/plain": [
              "   cgpa   iq\n",
              "0  5.13   88\n",
              "1  5.90  113\n",
              "2  8.36   93\n",
              "3  8.27   97\n",
              "4  5.45  110"
            ],
            "text/html": [
              "\n",
              "  <div id=\"df-febc1ffd-a1a7-4e56-b997-ba39a2cca6b8\" class=\"colab-df-container\">\n",
              "    <div>\n",
              "<style scoped>\n",
              "    .dataframe tbody tr th:only-of-type {\n",
              "        vertical-align: middle;\n",
              "    }\n",
              "\n",
              "    .dataframe tbody tr th {\n",
              "        vertical-align: top;\n",
              "    }\n",
              "\n",
              "    .dataframe thead th {\n",
              "        text-align: right;\n",
              "    }\n",
              "</style>\n",
              "<table border=\"1\" class=\"dataframe\">\n",
              "  <thead>\n",
              "    <tr style=\"text-align: right;\">\n",
              "      <th></th>\n",
              "      <th>cgpa</th>\n",
              "      <th>iq</th>\n",
              "    </tr>\n",
              "  </thead>\n",
              "  <tbody>\n",
              "    <tr>\n",
              "      <th>0</th>\n",
              "      <td>5.13</td>\n",
              "      <td>88</td>\n",
              "    </tr>\n",
              "    <tr>\n",
              "      <th>1</th>\n",
              "      <td>5.90</td>\n",
              "      <td>113</td>\n",
              "    </tr>\n",
              "    <tr>\n",
              "      <th>2</th>\n",
              "      <td>8.36</td>\n",
              "      <td>93</td>\n",
              "    </tr>\n",
              "    <tr>\n",
              "      <th>3</th>\n",
              "      <td>8.27</td>\n",
              "      <td>97</td>\n",
              "    </tr>\n",
              "    <tr>\n",
              "      <th>4</th>\n",
              "      <td>5.45</td>\n",
              "      <td>110</td>\n",
              "    </tr>\n",
              "  </tbody>\n",
              "</table>\n",
              "</div>\n",
              "    <div class=\"colab-df-buttons\">\n",
              "\n",
              "  <div class=\"colab-df-container\">\n",
              "    <button class=\"colab-df-convert\" onclick=\"convertToInteractive('df-febc1ffd-a1a7-4e56-b997-ba39a2cca6b8')\"\n",
              "            title=\"Convert this dataframe to an interactive table.\"\n",
              "            style=\"display:none;\">\n",
              "\n",
              "  <svg xmlns=\"http://www.w3.org/2000/svg\" height=\"24px\" viewBox=\"0 -960 960 960\">\n",
              "    <path d=\"M120-120v-720h720v720H120Zm60-500h600v-160H180v160Zm220 220h160v-160H400v160Zm0 220h160v-160H400v160ZM180-400h160v-160H180v160Zm440 0h160v-160H620v160ZM180-180h160v-160H180v160Zm440 0h160v-160H620v160Z\"/>\n",
              "  </svg>\n",
              "    </button>\n",
              "\n",
              "  <style>\n",
              "    .colab-df-container {\n",
              "      display:flex;\n",
              "      gap: 12px;\n",
              "    }\n",
              "\n",
              "    .colab-df-convert {\n",
              "      background-color: #E8F0FE;\n",
              "      border: none;\n",
              "      border-radius: 50%;\n",
              "      cursor: pointer;\n",
              "      display: none;\n",
              "      fill: #1967D2;\n",
              "      height: 32px;\n",
              "      padding: 0 0 0 0;\n",
              "      width: 32px;\n",
              "    }\n",
              "\n",
              "    .colab-df-convert:hover {\n",
              "      background-color: #E2EBFA;\n",
              "      box-shadow: 0px 1px 2px rgba(60, 64, 67, 0.3), 0px 1px 3px 1px rgba(60, 64, 67, 0.15);\n",
              "      fill: #174EA6;\n",
              "    }\n",
              "\n",
              "    .colab-df-buttons div {\n",
              "      margin-bottom: 4px;\n",
              "    }\n",
              "\n",
              "    [theme=dark] .colab-df-convert {\n",
              "      background-color: #3B4455;\n",
              "      fill: #D2E3FC;\n",
              "    }\n",
              "\n",
              "    [theme=dark] .colab-df-convert:hover {\n",
              "      background-color: #434B5C;\n",
              "      box-shadow: 0px 1px 3px 1px rgba(0, 0, 0, 0.15);\n",
              "      filter: drop-shadow(0px 1px 2px rgba(0, 0, 0, 0.3));\n",
              "      fill: #FFFFFF;\n",
              "    }\n",
              "  </style>\n",
              "\n",
              "    <script>\n",
              "      const buttonEl =\n",
              "        document.querySelector('#df-febc1ffd-a1a7-4e56-b997-ba39a2cca6b8 button.colab-df-convert');\n",
              "      buttonEl.style.display =\n",
              "        google.colab.kernel.accessAllowed ? 'block' : 'none';\n",
              "\n",
              "      async function convertToInteractive(key) {\n",
              "        const element = document.querySelector('#df-febc1ffd-a1a7-4e56-b997-ba39a2cca6b8');\n",
              "        const dataTable =\n",
              "          await google.colab.kernel.invokeFunction('convertToInteractive',\n",
              "                                                    [key], {});\n",
              "        if (!dataTable) return;\n",
              "\n",
              "        const docLinkHtml = 'Like what you see? Visit the ' +\n",
              "          '<a target=\"_blank\" href=https://colab.research.google.com/notebooks/data_table.ipynb>data table notebook</a>'\n",
              "          + ' to learn more about interactive tables.';\n",
              "        element.innerHTML = '';\n",
              "        dataTable['output_type'] = 'display_data';\n",
              "        await google.colab.output.renderOutput(dataTable, element);\n",
              "        const docLink = document.createElement('div');\n",
              "        docLink.innerHTML = docLinkHtml;\n",
              "        element.appendChild(docLink);\n",
              "      }\n",
              "    </script>\n",
              "  </div>\n",
              "\n",
              "\n",
              "    <div id=\"df-84067802-6c28-418b-b2b9-1710822deaf5\">\n",
              "      <button class=\"colab-df-quickchart\" onclick=\"quickchart('df-84067802-6c28-418b-b2b9-1710822deaf5')\"\n",
              "                title=\"Suggest charts\"\n",
              "                style=\"display:none;\">\n",
              "\n",
              "<svg xmlns=\"http://www.w3.org/2000/svg\" height=\"24px\"viewBox=\"0 0 24 24\"\n",
              "     width=\"24px\">\n",
              "    <g>\n",
              "        <path d=\"M19 3H5c-1.1 0-2 .9-2 2v14c0 1.1.9 2 2 2h14c1.1 0 2-.9 2-2V5c0-1.1-.9-2-2-2zM9 17H7v-7h2v7zm4 0h-2V7h2v10zm4 0h-2v-4h2v4z\"/>\n",
              "    </g>\n",
              "</svg>\n",
              "      </button>\n",
              "\n",
              "<style>\n",
              "  .colab-df-quickchart {\n",
              "      --bg-color: #E8F0FE;\n",
              "      --fill-color: #1967D2;\n",
              "      --hover-bg-color: #E2EBFA;\n",
              "      --hover-fill-color: #174EA6;\n",
              "      --disabled-fill-color: #AAA;\n",
              "      --disabled-bg-color: #DDD;\n",
              "  }\n",
              "\n",
              "  [theme=dark] .colab-df-quickchart {\n",
              "      --bg-color: #3B4455;\n",
              "      --fill-color: #D2E3FC;\n",
              "      --hover-bg-color: #434B5C;\n",
              "      --hover-fill-color: #FFFFFF;\n",
              "      --disabled-bg-color: #3B4455;\n",
              "      --disabled-fill-color: #666;\n",
              "  }\n",
              "\n",
              "  .colab-df-quickchart {\n",
              "    background-color: var(--bg-color);\n",
              "    border: none;\n",
              "    border-radius: 50%;\n",
              "    cursor: pointer;\n",
              "    display: none;\n",
              "    fill: var(--fill-color);\n",
              "    height: 32px;\n",
              "    padding: 0;\n",
              "    width: 32px;\n",
              "  }\n",
              "\n",
              "  .colab-df-quickchart:hover {\n",
              "    background-color: var(--hover-bg-color);\n",
              "    box-shadow: 0 1px 2px rgba(60, 64, 67, 0.3), 0 1px 3px 1px rgba(60, 64, 67, 0.15);\n",
              "    fill: var(--button-hover-fill-color);\n",
              "  }\n",
              "\n",
              "  .colab-df-quickchart-complete:disabled,\n",
              "  .colab-df-quickchart-complete:disabled:hover {\n",
              "    background-color: var(--disabled-bg-color);\n",
              "    fill: var(--disabled-fill-color);\n",
              "    box-shadow: none;\n",
              "  }\n",
              "\n",
              "  .colab-df-spinner {\n",
              "    border: 2px solid var(--fill-color);\n",
              "    border-color: transparent;\n",
              "    border-bottom-color: var(--fill-color);\n",
              "    animation:\n",
              "      spin 1s steps(1) infinite;\n",
              "  }\n",
              "\n",
              "  @keyframes spin {\n",
              "    0% {\n",
              "      border-color: transparent;\n",
              "      border-bottom-color: var(--fill-color);\n",
              "      border-left-color: var(--fill-color);\n",
              "    }\n",
              "    20% {\n",
              "      border-color: transparent;\n",
              "      border-left-color: var(--fill-color);\n",
              "      border-top-color: var(--fill-color);\n",
              "    }\n",
              "    30% {\n",
              "      border-color: transparent;\n",
              "      border-left-color: var(--fill-color);\n",
              "      border-top-color: var(--fill-color);\n",
              "      border-right-color: var(--fill-color);\n",
              "    }\n",
              "    40% {\n",
              "      border-color: transparent;\n",
              "      border-right-color: var(--fill-color);\n",
              "      border-top-color: var(--fill-color);\n",
              "    }\n",
              "    60% {\n",
              "      border-color: transparent;\n",
              "      border-right-color: var(--fill-color);\n",
              "    }\n",
              "    80% {\n",
              "      border-color: transparent;\n",
              "      border-right-color: var(--fill-color);\n",
              "      border-bottom-color: var(--fill-color);\n",
              "    }\n",
              "    90% {\n",
              "      border-color: transparent;\n",
              "      border-bottom-color: var(--fill-color);\n",
              "    }\n",
              "  }\n",
              "</style>\n",
              "\n",
              "      <script>\n",
              "        async function quickchart(key) {\n",
              "          const quickchartButtonEl =\n",
              "            document.querySelector('#' + key + ' button');\n",
              "          quickchartButtonEl.disabled = true;  // To prevent multiple clicks.\n",
              "          quickchartButtonEl.classList.add('colab-df-spinner');\n",
              "          try {\n",
              "            const charts = await google.colab.kernel.invokeFunction(\n",
              "                'suggestCharts', [key], {});\n",
              "          } catch (error) {\n",
              "            console.error('Error during call to suggestCharts:', error);\n",
              "          }\n",
              "          quickchartButtonEl.classList.remove('colab-df-spinner');\n",
              "          quickchartButtonEl.classList.add('colab-df-quickchart-complete');\n",
              "        }\n",
              "        (() => {\n",
              "          let quickchartButtonEl =\n",
              "            document.querySelector('#df-84067802-6c28-418b-b2b9-1710822deaf5 button');\n",
              "          quickchartButtonEl.style.display =\n",
              "            google.colab.kernel.accessAllowed ? 'block' : 'none';\n",
              "        })();\n",
              "      </script>\n",
              "    </div>\n",
              "\n",
              "    </div>\n",
              "  </div>\n"
            ],
            "application/vnd.google.colaboratory.intrinsic+json": {
              "type": "dataframe",
              "variable_name": "df",
              "summary": "{\n  \"name\": \"df\",\n  \"rows\": 200,\n  \"fields\": [\n    {\n      \"column\": \"cgpa\",\n      \"properties\": {\n        \"dtype\": \"number\",\n        \"std\": 1.6241012791153517,\n        \"min\": 4.6,\n        \"max\": 9.3,\n        \"num_unique_values\": 152,\n        \"samples\": [\n          6.06,\n          6.33,\n          4.85\n        ],\n        \"semantic_type\": \"\",\n        \"description\": \"\"\n      }\n    },\n    {\n      \"column\": \"iq\",\n      \"properties\": {\n        \"dtype\": \"number\",\n        \"std\": 12,\n        \"min\": 83,\n        \"max\": 121,\n        \"num_unique_values\": 34,\n        \"samples\": [\n          87,\n          112,\n          121\n        ],\n        \"semantic_type\": \"\",\n        \"description\": \"\"\n      }\n    }\n  ]\n}"
            }
          },
          "metadata": {},
          "execution_count": 7
        }
      ]
    },
    {
      "cell_type": "code",
      "source": [
        "import matplotlib.pyplot as plt\n",
        "plt.scatter(df[\"cgpa\"], df[\"iq\"])"
      ],
      "metadata": {
        "colab": {
          "base_uri": "https://localhost:8080/",
          "height": 448
        },
        "id": "Ev--YchlqznW",
        "outputId": "f1fb287f-1d6f-44eb-83d4-70f4791874ec"
      },
      "execution_count": 8,
      "outputs": [
        {
          "output_type": "execute_result",
          "data": {
            "text/plain": [
              "<matplotlib.collections.PathCollection at 0x78d147948440>"
            ]
          },
          "metadata": {},
          "execution_count": 8
        },
        {
          "output_type": "display_data",
          "data": {
            "text/plain": [
              "<Figure size 640x480 with 1 Axes>"
            ],
            "image/png": "[encoded data removed]"
          },
          "metadata": {}
        }
      ]
    },
    {
      "cell_type": "code",
      "source": [
        "from sklearn.cluster import KMeans"
      ],
      "metadata": {
        "id": "Y8zrtlJ0r-Xt"
      },
      "execution_count": 9,
      "outputs": []
    },
    {
      "cell_type": "code",
      "source": [
        "wcss = []\n",
        "\n",
        "for i in range(1,11):\n",
        "  km = KMeans(n_clusters=i)\n",
        "  km.fit_predict(df)\n",
        "  wcss.append(km.inertia_)"
      ],
      "metadata": {
        "id": "NCqip5XMsPtF"
      },
      "execution_count": 10,
      "outputs": []
    },
    {
      "cell_type": "code",
      "source": [
        "wcss"
      ],
      "metadata": {
        "colab": {
          "base_uri": "https://localhost:8080/",
          "height": 0
        },
        "id": "Xtaohq6KshNm",
        "outputId": "d34735a3-9b6a-449d-fad6-a89b02248100"
      },
      "execution_count": 11,
      "outputs": [
        {
          "output_type": "execute_result",
          "data": {
            "text/plain": [
              "[29957.898287999997,\n",
              " 4184.141269999999,\n",
              " 2364.0055834200834,\n",
              " 681.9696600000001,\n",
              " 582.7491892238328,\n",
              " 417.8541311203876,\n",
              " 312.0743312360444,\n",
              " 242.25461777981246,\n",
              " 239.03068215587203,\n",
              " 188.97024470280112]"
            ]
          },
          "metadata": {},
          "execution_count": 11
        }
      ]
    },
    {
      "cell_type": "code",
      "source": [
        "plt.plot(range(1,11), wcss)"
      ],
      "metadata": {
        "colab": {
          "base_uri": "https://localhost:8080/",
          "height": 448
        },
        "id": "t5OTsOcasiLr",
        "outputId": "e10d434c-daf7-4e0a-9ae0-eec4f93d3f65"
      },
      "execution_count": 12,
      "outputs": [
        {
          "output_type": "execute_result",
          "data": {
            "text/plain": [
              "[<matplotlib.lines.Line2D at 0x78d14762f710>]"
            ]
          },
          "metadata": {},
          "execution_count": 12
        },
        {
          "output_type": "display_data",
          "data": {
            "text/plain": [
              "<Figure size 640x480 with 1 Axes>"
            ],
            "image/png": "[encoded data removed]"
          },
          "metadata": {}
        }
      ]
    },
    {
      "cell_type": "code",
      "source": [
        "X = df.iloc[:, :].values # here, all rows and columns are extracted. this converts pd dataframe to numpy array\n",
        "km = KMeans(n_clusters=4)\n",
        "y_means = km.fit_predict(X)"
      ],
      "metadata": {
        "id": "gynO-nU4stcN"
      },
      "execution_count": 14,
      "outputs": []
    },
    {
      "cell_type": "code",
      "source": [
        "y_means"
      ],
      "metadata": {
        "colab": {
          "base_uri": "https://localhost:8080/",
          "height": 0
        },
        "id": "-luF_ZWGtOoQ",
        "outputId": "10f41d4c-7b08-4b3b-8001-059e5c6d5f47"
      },
      "execution_count": 15,
      "outputs": [
        {
          "output_type": "execute_result",
          "data": {
            "text/plain": [
              "array([2, 1, 0, 0, 1, 1, 0, 3, 1, 0, 2, 1, 0, 2, 1, 0, 1, 0, 1, 1, 0, 2,\n",
              "       0, 2, 2, 0, 2, 3, 0, 1, 3, 1, 3, 1, 0, 0, 3, 1, 2, 1, 2, 0, 0, 2,\n",
              "       3, 3, 0, 1, 3, 1, 2, 2, 3, 0, 3, 1, 1, 3, 1, 3, 1, 0, 0, 3, 2, 3,\n",
              "       0, 2, 1, 0, 1, 3, 0, 2, 1, 3, 1, 3, 2, 0, 0, 3, 1, 2, 3, 2, 3, 1,\n",
              "       3, 1, 3, 3, 0, 2, 0, 0, 3, 0, 2, 3, 1, 2, 2, 3, 2, 2, 0, 2, 3, 3,\n",
              "       0, 3, 1, 1, 0, 3, 0, 1, 3, 2, 2, 1, 0, 3, 0, 2, 0, 1, 2, 0, 0, 1,\n",
              "       2, 2, 1, 3, 1, 2, 0, 0, 0, 2, 1, 2, 2, 3, 2, 3, 1, 2, 3, 2, 3, 3,\n",
              "       2, 0, 1, 3, 1, 0, 2, 3, 1, 0, 3, 2, 1, 2, 2, 3, 3, 1, 3, 2, 2, 0,\n",
              "       3, 1, 2, 3, 3, 1, 1, 1, 0, 2, 0, 0, 3, 1, 0, 0, 2, 2, 0, 2, 3, 1,\n",
              "       1, 3], dtype=int32)"
            ]
          },
          "metadata": {},
          "execution_count": 15
        }
      ]
    },
    {
      "cell_type": "code",
      "source": [
        "X"
      ],
      "metadata": {
        "colab": {
          "base_uri": "https://localhost:8080/",
          "height": 0
        },
        "id": "lFKsuWMstqVv",
        "outputId": "2483f291-b249-4f74-8ee3-2e1b722fa474"
      },
      "execution_count": 18,
      "outputs": [
        {
          "output_type": "execute_result",
          "data": {
            "text/plain": [
              "array([[  5.13,  88.  ],\n",
              "       [  5.9 , 113.  ],\n",
              "       [  8.36,  93.  ],\n",
              "       [  8.27,  97.  ],\n",
              "       [  5.45, 110.  ],\n",
              "       [  5.88, 109.  ],\n",
              "       [  8.41,  98.  ],\n",
              "       [  8.8 , 115.  ],\n",
              "       [  5.79, 110.  ],\n",
              "       [  8.09,  94.  ],\n",
              "       [  4.6 ,  86.  ],\n",
              "       [  6.1 , 110.  ],\n",
              "       [  8.16,  97.  ],\n",
              "       [  5.  ,  88.  ],\n",
              "       [  5.71, 108.  ],\n",
              "       [  8.31,  95.  ],\n",
              "       [  5.5 , 111.  ],\n",
              "       [  7.87,  91.  ],\n",
              "       [  6.05, 111.  ],\n",
              "       [  5.84, 113.  ],\n",
              "       [  7.47,  98.  ],\n",
              "       [  4.86,  86.  ],\n",
              "       [  7.78,  92.  ],\n",
              "       [  4.78,  87.  ],\n",
              "       [  4.96,  88.  ],\n",
              "       [  7.93,  98.  ],\n",
              "       [  4.86,  87.  ],\n",
              "       [  9.18, 119.  ],\n",
              "       [  8.04,  94.  ],\n",
              "       [  5.43, 106.  ],\n",
              "       [  8.86, 117.  ],\n",
              "       [  6.01, 112.  ],\n",
              "       [  8.83, 118.  ],\n",
              "       [  5.32, 106.  ],\n",
              "       [  7.77,  96.  ],\n",
              "       [  8.  ,  96.  ],\n",
              "       [  8.56, 118.  ],\n",
              "       [  5.91, 108.  ],\n",
              "       [  5.44,  84.  ],\n",
              "       [  5.57, 113.  ],\n",
              "       [  5.34,  85.  ],\n",
              "       [  8.43,  96.  ],\n",
              "       [  8.02,  93.  ],\n",
              "       [  5.31,  86.  ],\n",
              "       [  8.96, 116.  ],\n",
              "       [  8.78, 116.  ],\n",
              "       [  8.14,  94.  ],\n",
              "       [  6.4 , 108.  ],\n",
              "       [  8.45, 119.  ],\n",
              "       [  5.67, 109.  ],\n",
              "       [  5.14,  83.  ],\n",
              "       [  4.95,  86.  ],\n",
              "       [  8.79, 116.  ],\n",
              "       [  8.12,  96.  ],\n",
              "       [  8.81, 115.  ],\n",
              "       [  6.05, 108.  ],\n",
              "       [  5.85, 111.  ],\n",
              "       [  8.88, 115.  ],\n",
              "       [  5.87, 109.  ],\n",
              "       [  9.07, 117.  ],\n",
              "       [  6.02, 104.  ],\n",
              "       [  8.34,  96.  ],\n",
              "       [  8.65,  95.  ],\n",
              "       [  8.92, 118.  ],\n",
              "       [  5.21,  87.  ],\n",
              "       [  8.75, 113.  ],\n",
              "       [  8.53,  93.  ],\n",
              "       [  4.91,  85.  ],\n",
              "       [  5.77, 111.  ],\n",
              "       [  8.29,  95.  ],\n",
              "       [  6.06, 109.  ],\n",
              "       [  8.71, 116.  ],\n",
              "       [  7.93,  94.  ],\n",
              "       [  5.28,  83.  ],\n",
              "       [  5.55, 109.  ],\n",
              "       [  8.86, 118.  ],\n",
              "       [  5.81, 112.  ],\n",
              "       [  9.3 , 117.  ],\n",
              "       [  5.15,  88.  ],\n",
              "       [  8.72,  92.  ],\n",
              "       [  8.14,  91.  ],\n",
              "       [  9.01, 121.  ],\n",
              "       [  5.47, 111.  ],\n",
              "       [  4.9 ,  85.  ],\n",
              "       [  8.97, 116.  ],\n",
              "       [  4.89,  88.  ],\n",
              "       [  9.  , 117.  ],\n",
              "       [  5.74, 109.  ],\n",
              "       [  8.76, 117.  ],\n",
              "       [  5.8 , 108.  ],\n",
              "       [  8.78, 117.  ],\n",
              "       [  9.23, 114.  ],\n",
              "       [  8.2 ,  92.  ],\n",
              "       [  5.05,  86.  ],\n",
              "       [  8.67,  95.  ],\n",
              "       [  8.18,  94.  ],\n",
              "       [  9.03, 118.  ],\n",
              "       [  8.61,  95.  ],\n",
              "       [  4.98,  91.  ],\n",
              "       [  9.13, 118.  ],\n",
              "       [  5.88, 110.  ],\n",
              "       [  5.01,  86.  ],\n",
              "       [  4.95,  88.  ],\n",
              "       [  8.91, 119.  ],\n",
              "       [  4.96,  89.  ],\n",
              "       [  4.85,  86.  ],\n",
              "       [  7.99,  92.  ],\n",
              "       [  4.76,  90.  ],\n",
              "       [  8.98, 118.  ],\n",
              "       [  9.03, 118.  ],\n",
              "       [  8.08,  94.  ],\n",
              "       [  8.86, 117.  ],\n",
              "       [  5.91, 109.  ],\n",
              "       [  5.67, 111.  ],\n",
              "       [  8.26,  91.  ],\n",
              "       [  8.89, 118.  ],\n",
              "       [  8.25,  95.  ],\n",
              "       [  5.74, 108.  ],\n",
              "       [  8.97, 117.  ],\n",
              "       [  4.98,  87.  ],\n",
              "       [  4.78,  87.  ],\n",
              "       [  5.69, 109.  ],\n",
              "       [  8.4 ,  93.  ],\n",
              "       [  8.72, 119.  ],\n",
              "       [  7.84,  97.  ],\n",
              "       [  5.2 ,  85.  ],\n",
              "       [  8.08,  98.  ],\n",
              "       [  6.05, 109.  ],\n",
              "       [  5.05,  87.  ],\n",
              "       [  8.25,  96.  ],\n",
              "       [  8.3 ,  93.  ],\n",
              "       [  6.14, 111.  ],\n",
              "       [  5.01,  83.  ],\n",
              "       [  4.77,  86.  ],\n",
              "       [  5.74, 112.  ],\n",
              "       [  8.93, 118.  ],\n",
              "       [  5.94, 109.  ],\n",
              "       [  4.68,  87.  ],\n",
              "       [  7.9 , 100.  ],\n",
              "       [  7.97,  96.  ],\n",
              "       [  8.21,  94.  ],\n",
              "       [  4.81,  85.  ],\n",
              "       [  5.86, 111.  ],\n",
              "       [  5.03,  87.  ],\n",
              "       [  4.98,  87.  ],\n",
              "       [  8.58, 118.  ],\n",
              "       [  5.32,  88.  ],\n",
              "       [  8.94, 117.  ],\n",
              "       [  6.38, 107.  ],\n",
              "       [  4.86,  88.  ],\n",
              "       [  8.6 , 117.  ],\n",
              "       [  4.89,  85.  ],\n",
              "       [  8.77, 117.  ],\n",
              "       [  8.81, 116.  ],\n",
              "       [  4.88,  86.  ],\n",
              "       [  8.23,  95.  ],\n",
              "       [  6.61, 111.  ],\n",
              "       [  8.54, 118.  ],\n",
              "       [  6.04, 110.  ],\n",
              "       [  8.35,  93.  ],\n",
              "       [  5.01,  86.  ],\n",
              "       [  8.97, 119.  ],\n",
              "       [  6.24, 108.  ],\n",
              "       [  8.33,  92.  ],\n",
              "       [  8.91, 117.  ],\n",
              "       [  4.67,  86.  ],\n",
              "       [  6.1 , 109.  ],\n",
              "       [  5.15,  85.  ],\n",
              "       [  4.97,  88.  ],\n",
              "       [  8.68, 119.  ],\n",
              "       [  9.06, 120.  ],\n",
              "       [  5.8 , 110.  ],\n",
              "       [  8.9 , 117.  ],\n",
              "       [  4.87,  88.  ],\n",
              "       [  5.2 ,  89.  ],\n",
              "       [  8.46,  98.  ],\n",
              "       [  8.94, 115.  ],\n",
              "       [  5.87, 108.  ],\n",
              "       [  4.99,  88.  ],\n",
              "       [  8.91, 115.  ],\n",
              "       [  8.91, 117.  ],\n",
              "       [  5.97, 108.  ],\n",
              "       [  6.17, 110.  ],\n",
              "       [  6.01, 107.  ],\n",
              "       [  7.89,  96.  ],\n",
              "       [  4.79,  88.  ],\n",
              "       [  7.91,  93.  ],\n",
              "       [  8.23,  91.  ],\n",
              "       [  8.95, 116.  ],\n",
              "       [  6.33, 111.  ],\n",
              "       [  8.4 ,  93.  ],\n",
              "       [  8.44,  94.  ],\n",
              "       [  4.76,  89.  ],\n",
              "       [  4.78,  85.  ],\n",
              "       [  8.79,  96.  ],\n",
              "       [  4.68,  89.  ],\n",
              "       [  8.57, 118.  ],\n",
              "       [  5.85, 112.  ],\n",
              "       [  6.23, 108.  ],\n",
              "       [  8.82, 117.  ]])"
            ]
          },
          "metadata": {},
          "execution_count": 18
        }
      ]
    },
    {
      "cell_type": "code",
      "source": [
        "X[y_means == 1,1] # values of y-axis of cluster 1"
      ],
      "metadata": {
        "colab": {
          "base_uri": "https://localhost:8080/",
          "height": 0
        },
        "id": "iFiqJlh9tUwH",
        "outputId": "a78cad23-ed13-4c46-9624-44eb8d1a9be1"
      },
      "execution_count": 16,
      "outputs": [
        {
          "output_type": "execute_result",
          "data": {
            "text/plain": [
              "array([113., 110., 109., 110., 110., 108., 111., 111., 113., 106., 112.,\n",
              "       106., 108., 113., 108., 109., 108., 111., 109., 104., 111., 109.,\n",
              "       109., 112., 111., 109., 108., 110., 109., 111., 108., 109., 109.,\n",
              "       111., 112., 109., 111., 107., 111., 110., 108., 109., 110., 108.,\n",
              "       108., 110., 107., 111., 112., 108.])"
            ]
          },
          "metadata": {},
          "execution_count": 16
        }
      ]
    },
    {
      "cell_type": "code",
      "source": [
        "X[y_means == 1,0] # values of x-axis of cluster 1"
      ],
      "metadata": {
        "colab": {
          "base_uri": "https://localhost:8080/",
          "height": 0
        },
        "id": "jbfhHI2zthk4",
        "outputId": "483af644-b280-46f5-91bb-5feef94d5509"
      },
      "execution_count": 17,
      "outputs": [
        {
          "output_type": "execute_result",
          "data": {
            "text/plain": [
              "array([5.9 , 5.45, 5.88, 5.79, 6.1 , 5.71, 5.5 , 6.05, 5.84, 5.43, 6.01,\n",
              "       5.32, 5.91, 5.57, 6.4 , 5.67, 6.05, 5.85, 5.87, 6.02, 5.77, 6.06,\n",
              "       5.55, 5.81, 5.47, 5.74, 5.8 , 5.88, 5.91, 5.67, 5.74, 5.69, 6.05,\n",
              "       6.14, 5.74, 5.94, 5.86, 6.38, 6.61, 6.04, 6.24, 6.1 , 5.8 , 5.87,\n",
              "       5.97, 6.17, 6.01, 6.33, 5.85, 6.23])"
            ]
          },
          "metadata": {},
          "execution_count": 17
        }
      ]
    },
    {
      "cell_type": "code",
      "source": [
        "plt.scatter(X[y_means == 0,0], X[y_means == 0,1], color=\"blue\")\n",
        "plt.scatter(X[y_means == 1,0], X[y_means == 1,1], color=\"red\")\n",
        "plt.scatter(X[y_means == 2,0], X[y_means == 2,1], color=\"green\")\n",
        "plt.scatter(X[y_means == 3,0], X[y_means == 3,1], color=\"black\")\n",
        "plt.legend()\n",
        "plt.show()"
      ],
      "metadata": {
        "colab": {
          "base_uri": "https://localhost:8080/",
          "height": 486
        },
        "id": "XFxhfk2-tk13",
        "outputId": "27dca6be-7c60-4f47-d139-4c9ef203a500"
      },
      "execution_count": 21,
      "outputs": [
        {
          "output_type": "stream",
          "name": "stderr",
          "text": [
            "/tmp/ipython-input-843782787.py:5: UserWarning: No artists with labels found to put in legend.  Note that artists whose label start with an underscore are ignored when legend() is called with no argument.\n",
            "  plt.legend()\n"
          ]
        },
        {
          "output_type": "display_data",
          "data": {
            "text/plain": [
              "<Figure size 640x480 with 1 Axes>"
            ],
            "image/png": "[encoded data removed]"
          },
          "metadata": {}
        }
      ]
    },
    {
      "cell_type": "code",
      "source": [
        "from sklearn.datasets import make_blobs\n",
        "centroids = [(-5,-5),(5,5),(-2.5,2.5),(2.5,-2.5)]\n",
        "cluster_std = [1,1,1,1]\n",
        "\n",
        "R,s = make_blobs(n_samples=100,cluster_std=cluster_std,centers=centroids,n_features=2,random_state=2)"
      ],
      "metadata": {
        "id": "n9ujjbABuIAp"
      },
      "execution_count": 22,
      "outputs": []
    },
    {
      "cell_type": "code",
      "source": [
        "R"
      ],
      "metadata": {
        "colab": {
          "base_uri": "https://localhost:8080/",
          "height": 0
        },
        "id": "0mt5dSZ1vXQ_",
        "outputId": "a6496934-6cf3-4af2-ddcf-129ab29d2132"
      },
      "execution_count": 23,
      "outputs": [
        {
          "output_type": "execute_result",
          "data": {
            "text/plain": [
              "array([[-5.3135082 , -4.22898826],\n",
              "       [ 4.34674973,  5.84245628],\n",
              "       [-4.49711858, -6.24528809],\n",
              "       [ 5.69511961,  2.96653345],\n",
              "       [ 2.86505352, -1.72591797],\n",
              "       [-5.26905696, -2.76863321],\n",
              "       [-7.1361961 , -3.35972919],\n",
              "       [-1.70082   ,  3.76261366],\n",
              "       [ 2.95967695,  5.04625552],\n",
              "       [ 2.89652016, -2.81461744],\n",
              "       [ 3.61788673, -2.77424209],\n",
              "       [ 6.60869262, -1.67887912],\n",
              "       [-4.49814279, -5.8442137 ],\n",
              "       [ 3.11014409, -2.0765031 ],\n",
              "       [ 1.04663565, -2.83801778],\n",
              "       [ 4.03176032, -4.48584577],\n",
              "       [-2.82504963,  1.93976549],\n",
              "       [ 5.82470301,  6.24821292],\n",
              "       [ 4.53799465,  5.35088849],\n",
              "       [ 4.32232442,  3.56056097],\n",
              "       [ 6.36723542,  6.21788563],\n",
              "       [ 5.38186623,  5.56627544],\n",
              "       [ 2.27175244, -4.56961226],\n",
              "       [-4.44854596, -2.70779199],\n",
              "       [ 3.46078194, -1.74162965],\n",
              "       [-5.0191305 , -3.82499878],\n",
              "       [ 2.03165374, -3.75472031],\n",
              "       [-6.42121723, -5.1534952 ],\n",
              "       [ 4.61848352,  5.06648901],\n",
              "       [-2.00205985,  2.62650418],\n",
              "       [ 2.85913333, -1.87777959],\n",
              "       [-3.21925384,  1.91658541],\n",
              "       [-6.05795222, -5.90900761],\n",
              "       [ 4.96042976,  5.32600343],\n",
              "       [-5.33882197, -5.23618403],\n",
              "       [-4.99999024, -4.45764743],\n",
              "       [ 1.90624442, -1.35049943],\n",
              "       [ 0.05043824,  1.02682675],\n",
              "       [ 3.83556617, -2.19737066],\n",
              "       [-1.80380202,  3.19741627],\n",
              "       [-6.79343559, -5.84174737],\n",
              "       [ 6.00036589,  4.61890748],\n",
              "       [-3.52141473,  2.9323957 ],\n",
              "       [-2.6144213 ,  2.00182581],\n",
              "       [ 2.34055054,  4.90854738],\n",
              "       [-2.80408644,  5.08529487],\n",
              "       [ 3.53302907, -2.82900243],\n",
              "       [-5.82913529, -4.91228978],\n",
              "       [ 2.13552091, -3.37597948],\n",
              "       [ 2.04577215, -1.98562928],\n",
              "       [-4.46094168, -5.5961597 ],\n",
              "       [ 5.38047197,  4.78286473],\n",
              "       [-2.82358007,  2.92382471],\n",
              "       [-0.66466728,  2.94068987],\n",
              "       [-3.56079904,  3.09166652],\n",
              "       [ 4.59610773,  3.61548133],\n",
              "       [-3.19858995,  1.57110808],\n",
              "       [ 5.20420798,  6.40669624],\n",
              "       [-1.33847851,  2.88607805],\n",
              "       [-5.74787095, -4.99097475],\n",
              "       [-1.39085672,  0.73508227],\n",
              "       [-7.43476758, -4.8872735 ],\n",
              "       [ 4.36532069,  5.50839624],\n",
              "       [-1.74803515,  1.50623902],\n",
              "       [ 3.10151581, -2.49634051],\n",
              "       [-4.38865922, -4.95202941],\n",
              "       [-2.68325657,  3.51985473],\n",
              "       [-3.63313327,  2.93309255],\n",
              "       [-4.04667461,  0.41734806],\n",
              "       [ 4.62433058,  4.92552924],\n",
              "       [ 0.7797454 ,  3.47086132],\n",
              "       [-5.41675785, -5.05626683],\n",
              "       [-3.53232199, -5.33567734],\n",
              "       [ 5.52429643,  5.73527958],\n",
              "       [-3.40224607,  1.90902772],\n",
              "       [ 3.2620405 ,  6.04082395],\n",
              "       [ 5.21611601,  3.14138761],\n",
              "       [-2.77617949,  1.98311611],\n",
              "       [-3.91881055,  2.24822588],\n",
              "       [ 3.90126105,  6.58448706],\n",
              "       [ 3.32945843, -1.86937803],\n",
              "       [ 1.24457278, -1.56183633],\n",
              "       [ 1.36568152, -3.20742089],\n",
              "       [-4.95846061, -6.11792545],\n",
              "       [ 2.62482365, -1.74349786],\n",
              "       [ 4.58068352,  4.8676711 ],\n",
              "       [-5.63765501, -6.18761229],\n",
              "       [-3.98246548,  3.34631189],\n",
              "       [ 6.1735315 ,  2.65639681],\n",
              "       [-5.87810789, -5.15643417],\n",
              "       [ 4.24181219, -2.94750088],\n",
              "       [ 4.81053074,  4.92278133],\n",
              "       [-4.62955546, -3.64036614],\n",
              "       [-0.70740715,  2.07098668],\n",
              "       [ 2.74143963, -2.00257435],\n",
              "       [ 5.43349633,  6.27837923],\n",
              "       [ 1.27857083, -0.69552336],\n",
              "       [-6.86809065, -3.26881533],\n",
              "       [-4.74342955, -5.98877905],\n",
              "       [ 2.68040981, -1.94683573]])"
            ]
          },
          "metadata": {},
          "execution_count": 23
        }
      ]
    },
    {
      "cell_type": "code",
      "source": [
        "s"
      ],
      "metadata": {
        "colab": {
          "base_uri": "https://localhost:8080/",
          "height": 0
        },
        "id": "tb-WaukMvYDq",
        "outputId": "d89b0dbc-a475-4bc0-b4c4-6b0644185b1f"
      },
      "execution_count": 24,
      "outputs": [
        {
          "output_type": "execute_result",
          "data": {
            "text/plain": [
              "array([0, 1, 0, 1, 3, 0, 0, 2, 1, 3, 3, 3, 0, 3, 3, 3, 2, 1, 1, 1, 1, 1,\n",
              "       3, 0, 3, 0, 3, 0, 1, 2, 3, 2, 0, 1, 0, 0, 3, 2, 3, 2, 0, 1, 2, 2,\n",
              "       1, 2, 3, 0, 3, 3, 0, 1, 2, 2, 2, 1, 2, 1, 2, 0, 2, 0, 1, 2, 3, 0,\n",
              "       2, 2, 2, 1, 2, 0, 0, 1, 2, 1, 1, 2, 2, 1, 3, 3, 3, 0, 3, 1, 0, 2,\n",
              "       1, 0, 3, 1, 0, 2, 3, 1, 3, 0, 0, 3])"
            ]
          },
          "metadata": {},
          "execution_count": 24
        }
      ]
    },
    {
      "cell_type": "code",
      "source": [
        "import plotly.express as px\n",
        "fig = px.scatter_3d(x = R[:,0], y = R[:,1], z = X[:,2])\n",
        "fig.show()"
      ],
      "metadata": {
        "id": "6g6ikMw6vY3k"
      },
      "execution_count": null,
      "outputs": []
    },
    {
      "cell_type": "markdown",
      "source": [
        "# 1. Scaling the data (Important in real-world cases)\n",
        "\n",
        "KMeans is distance-based, so features with larger ranges can dominate."
      ],
      "metadata": {
        "id": "tQJ9-UF-xGwP"
      }
    },
    {
      "cell_type": "code",
      "source": [
        "from sklearn.preprocessing import StandardScaler\n",
        "\n",
        "scaler = StandardScaler()\n",
        "X_scaled = scaler.fit_transform(X)"
      ],
      "metadata": {
        "id": "7ZZuZ9tuxF98"
      },
      "execution_count": 28,
      "outputs": []
    },
    {
      "cell_type": "markdown",
      "source": [
        "# 2. Silhouette Score / Davies-Bouldin Index (For cluster validation)\n",
        "\n",
        "Besides WCSS, metrics like silhouette score help validate how well-separated clusters are."
      ],
      "metadata": {
        "id": "sTO7L1csxVEq"
      }
    },
    {
      "cell_type": "code",
      "source": [
        "from sklearn.metrics import silhouette_score\n",
        "\n",
        "score = silhouette_score(X, y_means)\n",
        "print(f\"Silhouette Score: {score}\")"
      ],
      "metadata": {
        "colab": {
          "base_uri": "https://localhost:8080/"
        },
        "id": "8Yw8XWHbxQVM",
        "outputId": "7ab0a31a-73cc-4abb-e54a-e253cc4ef865"
      },
      "execution_count": 29,
      "outputs": [
        {
          "output_type": "stream",
          "name": "stdout",
          "text": [
            "Silhouette Score: 0.7349682510969364\n"
          ]
        }
      ]
    },
    {
      "cell_type": "markdown",
      "source": [
        "# 3. 📊 Plot cluster centers (especially for interpretability)\n",
        "\n",
        "In your scatter plots, you can mark the centroids:"
      ],
      "metadata": {
        "id": "RzrJiVidxe9E"
      }
    },
    {
      "cell_type": "code",
      "source": [
        "centroids = km.cluster_centers_\n",
        "plt.scatter(centroids[:, 0], centroids[:, 1], s=200, marker='X', color='purple', label='Centroids')"
      ],
      "metadata": {
        "colab": {
          "base_uri": "https://localhost:8080/",
          "height": 448
        },
        "id": "CiSu8fcwxaYF",
        "outputId": "3572ff29-518f-4909-db56-b2d5a342bc1d"
      },
      "execution_count": 30,
      "outputs": [
        {
          "output_type": "execute_result",
          "data": {
            "text/plain": [
              "<matplotlib.collections.PathCollection at 0x78d146730440>"
            ]
          },
          "metadata": {},
          "execution_count": 30
        },
        {
          "output_type": "display_data",
          "data": {
            "text/plain": [
              "<Figure size 640x480 with 1 Axes>"
            ],
            "image/png": "[encoded data removed]"
          },
          "metadata": {}
        }
      ]
    },
    {
      "cell_type": "markdown",
      "source": [
        "# 4. 📁 Labeling & Legends (Improving visualization clarity)"
      ],
      "metadata": {
        "id": "A2b9cUgHxowz"
      }
    },
    {
      "cell_type": "code",
      "source": [
        "plt.scatter(X[y_means == 0, 0], X[y_means == 0, 1], color='blue', label='Cluster 0')\n",
        "plt.scatter(X[y_means == 1, 0], X[y_means == 1, 1], color='red', label='Cluster 1')\n",
        "plt.scatter(X[y_means == 2, 0], X[y_means == 2, 1], color='green', label='Cluster 2')\n",
        "plt.scatter(X[y_means == 3, 0], X[y_means == 3, 1], color='black', label='Cluster 3')\n",
        "plt.legend()"
      ],
      "metadata": {
        "colab": {
          "base_uri": "https://localhost:8080/",
          "height": 448
        },
        "id": "Mr1iCr1-xjfa",
        "outputId": "7438aecb-97cb-4efe-a02f-9dc177242c96"
      },
      "execution_count": 31,
      "outputs": [
        {
          "output_type": "execute_result",
          "data": {
            "text/plain": [
              "<matplotlib.legend.Legend at 0x78d13a4123f0>"
            ]
          },
          "metadata": {},
          "execution_count": 31
        },
        {
          "output_type": "display_data",
          "data": {
            "text/plain": [
              "<Figure size 640x480 with 1 Axes>"
            ],
            "image/png": "[encoded data removed]"
          },
          "metadata": {}
        }
      ]
    },
    {
      "cell_type": "markdown",
      "source": [
        "# ✅ 1. K-Means++ Initialization (Better Centroid Initialization)\n",
        "🔹 Why:\n",
        "\n",
        "The standard K-Means uses random initialization, which can lead to:\n",
        "\n",
        "Poor convergence (local minima)\n",
        "\n",
        "Long training times\n",
        "\n",
        "Uneven cluster separation\n",
        "\n",
        "🔹 K-Means++:\n",
        "\n",
        "A smarter way to initialize centroids to improve clustering performance.\n",
        "\n",
        "🔹 In sklearn:\n",
        "\n",
        "You already get it by default!"
      ],
      "metadata": {
        "id": "naEUO6EdxnsX"
      }
    },
    {
      "cell_type": "code",
      "source": [
        "KMeans(n_clusters=4, init='k-means++')  # This is default"
      ],
      "metadata": {
        "colab": {
          "base_uri": "https://localhost:8080/",
          "height": 80
        },
        "id": "LKsx_4uyyZgO",
        "outputId": "80eef976-8899-442c-b783-753372addff0"
      },
      "execution_count": 33,
      "outputs": [
        {
          "output_type": "execute_result",
          "data": {
            "text/plain": [
              "KMeans(n_clusters=4)"
            ],
            "text/html": [
              "<style>#sk-container-id-1 {\n",
              "  /* Definition of color scheme common for light and dark mode */\n",
              "  --sklearn-color-text: #000;\n",
              "  --sklearn-color-text-muted: #666;\n",
              "  --sklearn-color-line: gray;\n",
              "  /* Definition of color scheme for unfitted estimators */\n",
              "  --sklearn-color-unfitted-level-0: #fff5e6;\n",
              "  --sklearn-color-unfitted-level-1: #f6e4d2;\n",
              "  --sklearn-color-unfitted-level-2: #ffe0b3;\n",
              "  --sklearn-color-unfitted-level-3: chocolate;\n",
              "  /* Definition of color scheme for fitted estimators */\n",
              "  --sklearn-color-fitted-level-0: #f0f8ff;\n",
              "  --sklearn-color-fitted-level-1: #d4ebff;\n",
              "  --sklearn-color-fitted-level-2: #b3dbfd;\n",
              "  --sklearn-color-fitted-level-3: cornflowerblue;\n",
              "\n",
              "  /* Specific color for light theme */\n",
              "  --sklearn-color-text-on-default-background: var(--sg-text-color, var(--theme-code-foreground, var(--jp-content-font-color1, black)));\n",
              "  --sklearn-color-background: var(--sg-background-color, var(--theme-background, var(--jp-layout-color0, white)));\n",
              "  --sklearn-color-border-box: var(--sg-text-color, var(--theme-code-foreground, var(--jp-content-font-color1, black)));\n",
              "  --sklearn-color-icon: #696969;\n",
              "\n",
              "  @media (prefers-color-scheme: dark) {\n",
              "    /* Redefinition of color scheme for dark theme */\n",
              "    --sklearn-color-text-on-default-background: var(--sg-text-color, var(--theme-code-foreground, var(--jp-content-font-color1, white)));\n",
              "    --sklearn-color-background: var(--sg-background-color, var(--theme-background, var(--jp-layout-color0, #111)));\n",
              "    --sklearn-color-border-box: var(--sg-text-color, var(--theme-code-foreground, var(--jp-content-font-color1, white)));\n",
              "    --sklearn-color-icon: #878787;\n",
              "  }\n",
              "}\n",
              "\n",
              "#sk-container-id-1 {\n",
              "  color: var(--sklearn-color-text);\n",
              "}\n",
              "\n",
              "#sk-container-id-1 pre {\n",
              "  padding: 0;\n",
              "}\n",
              "\n",
              "#sk-container-id-1 input.sk-hidden--visually {\n",
              "  border: 0;\n",
              "  clip: rect(1px 1px 1px 1px);\n",
              "  clip: rect(1px, 1px, 1px, 1px);\n",
              "  height: 1px;\n",
              "  margin: -1px;\n",
              "  overflow: hidden;\n",
              "  padding: 0;\n",
              "  position: absolute;\n",
              "  width: 1px;\n",
              "}\n",
              "\n",
              "#sk-container-id-1 div.sk-dashed-wrapped {\n",
              "  border: 1px dashed var(--sklearn-color-line);\n",
              "  margin: 0 0.4em 0.5em 0.4em;\n",
              "  box-sizing: border-box;\n",
              "  padding-bottom: 0.4em;\n",
              "  background-color: var(--sklearn-color-background);\n",
              "}\n",
              "\n",
              "#sk-container-id-1 div.sk-container {\n",
              "  /* jupyter's `normalize.less` sets `[hidden] { display: none; }`\n",
              "     but bootstrap.min.css set `[hidden] { display: none !important; }`\n",
              "     so we also need the `!important` here to be able to override the\n",
              "     default hidden behavior on the sphinx rendered scikit-learn.org.\n",
              "     See: https://github.com/scikit-learn/scikit-learn/issues/21755 */\n",
              "  display: inline-block !important;\n",
              "  position: relative;\n",
              "}\n",
              "\n",
              "#sk-container-id-1 div.sk-text-repr-fallback {\n",
              "  display: none;\n",
              "}\n",
              "\n",
              "div.sk-parallel-item,\n",
              "div.sk-serial,\n",
              "div.sk-item {\n",
              "  /* draw centered vertical line to link estimators */\n",
              "  background-image: linear-gradient(var(--sklearn-color-text-on-default-background), var(--sklearn-color-text-on-default-background));\n",
              "  background-size: 2px 100%;\n",
              "  background-repeat: no-repeat;\n",
              "  background-position: center center;\n",
              "}\n",
              "\n",
              "/* Parallel-specific style estimator block */\n",
              "\n",
              "#sk-container-id-1 div.sk-parallel-item::after {\n",
              "  content: \"\";\n",
              "  width: 100%;\n",
              "  border-bottom: 2px solid var(--sklearn-color-text-on-default-background);\n",
              "  flex-grow: 1;\n",
              "}\n",
              "\n",
              "#sk-container-id-1 div.sk-parallel {\n",
              "  display: flex;\n",
              "  align-items: stretch;\n",
              "  justify-content: center;\n",
              "  background-color: var(--sklearn-color-background);\n",
              "  position: relative;\n",
              "}\n",
              "\n",
              "#sk-container-id-1 div.sk-parallel-item {\n",
              "  display: flex;\n",
              "  flex-direction: column;\n",
              "}\n",
              "\n",
              "#sk-container-id-1 div.sk-parallel-item:first-child::after {\n",
              "  align-self: flex-end;\n",
              "  width: 50%;\n",
              "}\n",
              "\n",
              "#sk-container-id-1 div.sk-parallel-item:last-child::after {\n",
              "  align-self: flex-start;\n",
              "  width: 50%;\n",
              "}\n",
              "\n",
              "#sk-container-id-1 div.sk-parallel-item:only-child::after {\n",
              "  width: 0;\n",
              "}\n",
              "\n",
              "/* Serial-specific style estimator block */\n",
              "\n",
              "#sk-container-id-1 div.sk-serial {\n",
              "  display: flex;\n",
              "  flex-direction: column;\n",
              "  align-items: center;\n",
              "  background-color: var(--sklearn-color-background);\n",
              "  padding-right: 1em;\n",
              "  padding-left: 1em;\n",
              "}\n",
              "\n",
              "\n",
              "/* Toggleable style: style used for estimator/Pipeline/ColumnTransformer box that is\n",
              "clickable and can be expanded/collapsed.\n",
              "- Pipeline and ColumnTransformer use this feature and define the default style\n",
              "- Estimators will overwrite some part of the style using the `sk-estimator` class\n",
              "*/\n",
              "\n",
              "/* Pipeline and ColumnTransformer style (default) */\n",
              "\n",
              "#sk-container-id-1 div.sk-toggleable {\n",
              "  /* Default theme specific background. It is overwritten whether we have a\n",
              "  specific estimator or a Pipeline/ColumnTransformer */\n",
              "  background-color: var(--sklearn-color-background);\n",
              "}\n",
              "\n",
              "/* Toggleable label */\n",
              "#sk-container-id-1 label.sk-toggleable__label {\n",
              "  cursor: pointer;\n",
              "  display: flex;\n",
              "  width: 100%;\n",
              "  margin-bottom: 0;\n",
              "  padding: 0.5em;\n",
              "  box-sizing: border-box;\n",
              "  text-align: center;\n",
              "  align-items: start;\n",
              "  justify-content: space-between;\n",
              "  gap: 0.5em;\n",
              "}\n",
              "\n",
              "#sk-container-id-1 label.sk-toggleable__label .caption {\n",
              "  font-size: 0.6rem;\n",
              "  font-weight: lighter;\n",
              "  color: var(--sklearn-color-text-muted);\n",
              "}\n",
              "\n",
              "#sk-container-id-1 label.sk-toggleable__label-arrow:before {\n",
              "  /* Arrow on the left of the label */\n",
              "  content: \"▸\";\n",
              "  float: left;\n",
              "  margin-right: 0.25em;\n",
              "  color: var(--sklearn-color-icon);\n",
              "}\n",
              "\n",
              "#sk-container-id-1 label.sk-toggleable__label-arrow:hover:before {\n",
              "  color: var(--sklearn-color-text);\n",
              "}\n",
              "\n",
              "/* Toggleable content - dropdown */\n",
              "\n",
              "#sk-container-id-1 div.sk-toggleable__content {\n",
              "  max-height: 0;\n",
              "  max-width: 0;\n",
              "  overflow: hidden;\n",
              "  text-align: left;\n",
              "  /* unfitted */\n",
              "  background-color: var(--sklearn-color-unfitted-level-0);\n",
              "}\n",
              "\n",
              "#sk-container-id-1 div.sk-toggleable__content.fitted {\n",
              "  /* fitted */\n",
              "  background-color: var(--sklearn-color-fitted-level-0);\n",
              "}\n",
              "\n",
              "#sk-container-id-1 div.sk-toggleable__content pre {\n",
              "  margin: 0.2em;\n",
              "  border-radius: 0.25em;\n",
              "  color: var(--sklearn-color-text);\n",
              "  /* unfitted */\n",
              "  background-color: var(--sklearn-color-unfitted-level-0);\n",
              "}\n",
              "\n",
              "#sk-container-id-1 div.sk-toggleable__content.fitted pre {\n",
              "  /* unfitted */\n",
              "  background-color: var(--sklearn-color-fitted-level-0);\n",
              "}\n",
              "\n",
              "#sk-container-id-1 input.sk-toggleable__control:checked~div.sk-toggleable__content {\n",
              "  /* Expand drop-down */\n",
              "  max-height: 200px;\n",
              "  max-width: 100%;\n",
              "  overflow: auto;\n",
              "}\n",
              "\n",
              "#sk-container-id-1 input.sk-toggleable__control:checked~label.sk-toggleable__label-arrow:before {\n",
              "  content: \"▾\";\n",
              "}\n",
              "\n",
              "/* Pipeline/ColumnTransformer-specific style */\n",
              "\n",
              "#sk-container-id-1 div.sk-label input.sk-toggleable__control:checked~label.sk-toggleable__label {\n",
              "  color: var(--sklearn-color-text);\n",
              "  background-color: var(--sklearn-color-unfitted-level-2);\n",
              "}\n",
              "\n",
              "#sk-container-id-1 div.sk-label.fitted input.sk-toggleable__control:checked~label.sk-toggleable__label {\n",
              "  background-color: var(--sklearn-color-fitted-level-2);\n",
              "}\n",
              "\n",
              "/* Estimator-specific style */\n",
              "\n",
              "/* Colorize estimator box */\n",
              "#sk-container-id-1 div.sk-estimator input.sk-toggleable__control:checked~label.sk-toggleable__label {\n",
              "  /* unfitted */\n",
              "  background-color: var(--sklearn-color-unfitted-level-2);\n",
              "}\n",
              "\n",
              "#sk-container-id-1 div.sk-estimator.fitted input.sk-toggleable__control:checked~label.sk-toggleable__label {\n",
              "  /* fitted */\n",
              "  background-color: var(--sklearn-color-fitted-level-2);\n",
              "}\n",
              "\n",
              "#sk-container-id-1 div.sk-label label.sk-toggleable__label,\n",
              "#sk-container-id-1 div.sk-label label {\n",
              "  /* The background is the default theme color */\n",
              "  color: var(--sklearn-color-text-on-default-background);\n",
              "}\n",
              "\n",
              "/* On hover, darken the color of the background */\n",
              "#sk-container-id-1 div.sk-label:hover label.sk-toggleable__label {\n",
              "  color: var(--sklearn-color-text);\n",
              "  background-color: var(--sklearn-color-unfitted-level-2);\n",
              "}\n",
              "\n",
              "/* Label box, darken color on hover, fitted */\n",
              "#sk-container-id-1 div.sk-label.fitted:hover label.sk-toggleable__label.fitted {\n",
              "  color: var(--sklearn-color-text);\n",
              "  background-color: var(--sklearn-color-fitted-level-2);\n",
              "}\n",
              "\n",
              "/* Estimator label */\n",
              "\n",
              "#sk-container-id-1 div.sk-label label {\n",
              "  font-family: monospace;\n",
              "  font-weight: bold;\n",
              "  display: inline-block;\n",
              "  line-height: 1.2em;\n",
              "}\n",
              "\n",
              "#sk-container-id-1 div.sk-label-container {\n",
              "  text-align: center;\n",
              "}\n",
              "\n",
              "/* Estimator-specific */\n",
              "#sk-container-id-1 div.sk-estimator {\n",
              "  font-family: monospace;\n",
              "  border: 1px dotted var(--sklearn-color-border-box);\n",
              "  border-radius: 0.25em;\n",
              "  box-sizing: border-box;\n",
              "  margin-bottom: 0.5em;\n",
              "  /* unfitted */\n",
              "  background-color: var(--sklearn-color-unfitted-level-0);\n",
              "}\n",
              "\n",
              "#sk-container-id-1 div.sk-estimator.fitted {\n",
              "  /* fitted */\n",
              "  background-color: var(--sklearn-color-fitted-level-0);\n",
              "}\n",
              "\n",
              "/* on hover */\n",
              "#sk-container-id-1 div.sk-estimator:hover {\n",
              "  /* unfitted */\n",
              "  background-color: var(--sklearn-color-unfitted-level-2);\n",
              "}\n",
              "\n",
              "#sk-container-id-1 div.sk-estimator.fitted:hover {\n",
              "  /* fitted */\n",
              "  background-color: var(--sklearn-color-fitted-level-2);\n",
              "}\n",
              "\n",
              "/* Specification for estimator info (e.g. \"i\" and \"?\") */\n",
              "\n",
              "/* Common style for \"i\" and \"?\" */\n",
              "\n",
              ".sk-estimator-doc-link,\n",
              "a:link.sk-estimator-doc-link,\n",
              "a:visited.sk-estimator-doc-link {\n",
              "  float: right;\n",
              "  font-size: smaller;\n",
              "  line-height: 1em;\n",
              "  font-family: monospace;\n",
              "  background-color: var(--sklearn-color-background);\n",
              "  border-radius: 1em;\n",
              "  height: 1em;\n",
              "  width: 1em;\n",
              "  text-decoration: none !important;\n",
              "  margin-left: 0.5em;\n",
              "  text-align: center;\n",
              "  /* unfitted */\n",
              "  border: var(--sklearn-color-unfitted-level-1) 1pt solid;\n",
              "  color: var(--sklearn-color-unfitted-level-1);\n",
              "}\n",
              "\n",
              ".sk-estimator-doc-link.fitted,\n",
              "a:link.sk-estimator-doc-link.fitted,\n",
              "a:visited.sk-estimator-doc-link.fitted {\n",
              "  /* fitted */\n",
              "  border: var(--sklearn-color-fitted-level-1) 1pt solid;\n",
              "  color: var(--sklearn-color-fitted-level-1);\n",
              "}\n",
              "\n",
              "/* On hover */\n",
              "div.sk-estimator:hover .sk-estimator-doc-link:hover,\n",
              ".sk-estimator-doc-link:hover,\n",
              "div.sk-label-container:hover .sk-estimator-doc-link:hover,\n",
              ".sk-estimator-doc-link:hover {\n",
              "  /* unfitted */\n",
              "  background-color: var(--sklearn-color-unfitted-level-3);\n",
              "  color: var(--sklearn-color-background);\n",
              "  text-decoration: none;\n",
              "}\n",
              "\n",
              "div.sk-estimator.fitted:hover .sk-estimator-doc-link.fitted:hover,\n",
              ".sk-estimator-doc-link.fitted:hover,\n",
              "div.sk-label-container:hover .sk-estimator-doc-link.fitted:hover,\n",
              ".sk-estimator-doc-link.fitted:hover {\n",
              "  /* fitted */\n",
              "  background-color: var(--sklearn-color-fitted-level-3);\n",
              "  color: var(--sklearn-color-background);\n",
              "  text-decoration: none;\n",
              "}\n",
              "\n",
              "/* Span, style for the box shown on hovering the info icon */\n",
              ".sk-estimator-doc-link span {\n",
              "  display: none;\n",
              "  z-index: 9999;\n",
              "  position: relative;\n",
              "  font-weight: normal;\n",
              "  right: .2ex;\n",
              "  padding: .5ex;\n",
              "  margin: .5ex;\n",
              "  width: min-content;\n",
              "  min-width: 20ex;\n",
              "  max-width: 50ex;\n",
              "  color: var(--sklearn-color-text);\n",
              "  box-shadow: 2pt 2pt 4pt #999;\n",
              "  /* unfitted */\n",
              "  background: var(--sklearn-color-unfitted-level-0);\n",
              "  border: .5pt solid var(--sklearn-color-unfitted-level-3);\n",
              "}\n",
              "\n",
              ".sk-estimator-doc-link.fitted span {\n",
              "  /* fitted */\n",
              "  background: var(--sklearn-color-fitted-level-0);\n",
              "  border: var(--sklearn-color-fitted-level-3);\n",
              "}\n",
              "\n",
              ".sk-estimator-doc-link:hover span {\n",
              "  display: block;\n",
              "}\n",
              "\n",
              "/* \"?\"-specific style due to the `<a>` HTML tag */\n",
              "\n",
              "#sk-container-id-1 a.estimator_doc_link {\n",
              "  float: right;\n",
              "  font-size: 1rem;\n",
              "  line-height: 1em;\n",
              "  font-family: monospace;\n",
              "  background-color: var(--sklearn-color-background);\n",
              "  border-radius: 1rem;\n",
              "  height: 1rem;\n",
              "  width: 1rem;\n",
              "  text-decoration: none;\n",
              "  /* unfitted */\n",
              "  color: var(--sklearn-color-unfitted-level-1);\n",
              "  border: var(--sklearn-color-unfitted-level-1) 1pt solid;\n",
              "}\n",
              "\n",
              "#sk-container-id-1 a.estimator_doc_link.fitted {\n",
              "  /* fitted */\n",
              "  border: var(--sklearn-color-fitted-level-1) 1pt solid;\n",
              "  color: var(--sklearn-color-fitted-level-1);\n",
              "}\n",
              "\n",
              "/* On hover */\n",
              "#sk-container-id-1 a.estimator_doc_link:hover {\n",
              "  /* unfitted */\n",
              "  background-color: var(--sklearn-color-unfitted-level-3);\n",
              "  color: var(--sklearn-color-background);\n",
              "  text-decoration: none;\n",
              "}\n",
              "\n",
              "#sk-container-id-1 a.estimator_doc_link.fitted:hover {\n",
              "  /* fitted */\n",
              "  background-color: var(--sklearn-color-fitted-level-3);\n",
              "}\n",
              "</style><div id=\"sk-container-id-1\" class=\"sk-top-container\"><div class=\"sk-text-repr-fallback\"><pre>KMeans(n_clusters=4)</pre><b>In a Jupyter environment, please rerun this cell to show the HTML representation or trust the notebook. <br />On GitHub, the HTML representation is unable to render, please try loading this page with nbviewer.org.</b></div><div class=\"sk-container\" hidden><div class=\"sk-item\"><div class=\"sk-estimator  sk-toggleable\"><input class=\"sk-toggleable__control sk-hidden--visually\" id=\"sk-estimator-id-1\" type=\"checkbox\" checked><label for=\"sk-estimator-id-1\" class=\"sk-toggleable__label  sk-toggleable__label-arrow\"><div><div>KMeans</div></div><div><a class=\"sk-estimator-doc-link \" rel=\"noreferrer\" target=\"_blank\" href=\"https://scikit-learn.org/1.6/modules/generated/sklearn.cluster.KMeans.html\">?<span>Documentation for KMeans</span></a><span class=\"sk-estimator-doc-link \">i<span>Not fitted</span></span></div></label><div class=\"sk-toggleable__content \"><pre>KMeans(n_clusters=4)</pre></div> </div></div></div></div>"
            ]
          },
          "metadata": {},
          "execution_count": 33
        }
      ]
    },
    {
      "cell_type": "markdown",
      "source": [
        "# ✅ 2. MiniBatch K-Means (Faster for Large Datasets)\n",
        "🔹 Why:\n",
        "\n",
        "Standard K-Means recalculates distances to all data points on each iteration, which is slow for large datasets.\n",
        "\n",
        "🔹 MiniBatch KMeans:\n",
        "\n",
        "Uses small random batches of data to update centroids quickly."
      ],
      "metadata": {
        "id": "n4fTDP-oyjQR"
      }
    },
    {
      "cell_type": "markdown",
      "source": [
        "# **🔹 Use case:**\n",
        "\n",
        "Real-time applications\n",
        "\n",
        "Streaming data\n",
        "\n",
        "Large-scale clustering"
      ],
      "metadata": {
        "id": "wmUGQkJ6ypwL"
      }
    },
    {
      "cell_type": "code",
      "source": [
        "from sklearn.cluster import MiniBatchKMeans\n",
        "\n",
        "mbkm = MiniBatchKMeans(n_clusters=4, batch_size=20, random_state=42)\n",
        "y_mini = mbkm.fit_predict(X)"
      ],
      "metadata": {
        "id": "6z9c8ZboyaOW"
      },
      "execution_count": 34,
      "outputs": []
    },
    {
      "cell_type": "markdown",
      "source": [
        "# ✅ 3. Adding Scaling (Feature Standardization)\n",
        "\n",
        "🔹 Why:\n",
        "\n",
        "K-Means is distance-based. Features with large ranges dominate."
      ],
      "metadata": {
        "id": "f2jDubxGywlC"
      }
    },
    {
      "cell_type": "code",
      "source": [
        "from sklearn.preprocessing import StandardScaler\n",
        "\n",
        "scaler = StandardScaler()\n",
        "X_scaled = scaler.fit_transform(X)"
      ],
      "metadata": {
        "id": "r11JHbgiynPI"
      },
      "execution_count": 35,
      "outputs": []
    },
    {
      "cell_type": "markdown",
      "source": [
        "# 📊 PART 2: Evaluation Metrics for Clustering\n",
        "\n",
        "✅ Silhouette Score\n",
        "\n",
        "Measures how similar a point is to its own cluster compared to others.\n",
        "\n",
        "🔹 Range:\n",
        "\n",
        "-1 = incorrect clustering\n",
        "\n",
        "0 = overlapping clusters\n",
        "\n",
        "+1 = dense and well-separated clusters"
      ],
      "metadata": {
        "id": "OuCgjHEey8dQ"
      }
    },
    {
      "cell_type": "code",
      "source": [
        "from sklearn.metrics import silhouette_score\n",
        "\n",
        "score = silhouette_score(X_scaled, y_means)  # Use scaled data if applicable\n",
        "print(f\"Silhouette Score: {score}\")"
      ],
      "metadata": {
        "colab": {
          "base_uri": "https://localhost:8080/"
        },
        "id": "cwPSnoRVy1zn",
        "outputId": "07699416-884c-4ffa-95fc-b41af17d7a7c"
      },
      "execution_count": 36,
      "outputs": [
        {
          "output_type": "stream",
          "name": "stdout",
          "text": [
            "Silhouette Score: 0.8605024348886897\n"
          ]
        }
      ]
    },
    {
      "cell_type": "markdown",
      "source": [
        "# **✅ Davies-Bouldin Index**\n",
        "\n",
        "Lower is better; measures average similarity between each cluster and its most similar one."
      ],
      "metadata": {
        "id": "r1ZZg2I9zGGk"
      }
    },
    {
      "cell_type": "code",
      "source": [
        "from sklearn.metrics import davies_bouldin_score\n",
        "\n",
        "db_index = davies_bouldin_score(X_scaled, y_means)\n",
        "print(f\"Davies-Bouldin Index: {db_index}\")"
      ],
      "metadata": {
        "colab": {
          "base_uri": "https://localhost:8080/"
        },
        "id": "v10F-RzSzD6Q",
        "outputId": "b1075638-0140-4e0f-fd63-2c3c844c2fd4"
      },
      "execution_count": 37,
      "outputs": [
        {
          "output_type": "stream",
          "name": "stdout",
          "text": [
            "Davies-Bouldin Index: 0.20101696935794028\n"
          ]
        }
      ]
    },
    {
      "cell_type": "markdown",
      "source": [
        "# ✅ Cluster Labeling / Interpretation\n",
        "\n",
        "This is manual, but powerful:\n",
        "\n",
        "Analyze what each cluster represents\n",
        "\n",
        "For example, if clustering students by CGPA & IQ:"
      ],
      "metadata": {
        "id": "yI_3ozazzQ7g"
      }
    },
    {
      "cell_type": "code",
      "source": [
        "df['cluster'] = y_means\n",
        "for i in range(4):\n",
        "    print(f\"\\nCluster {i}\")\n",
        "    print(df[df['cluster'] == i].describe())"
      ],
      "metadata": {
        "colab": {
          "base_uri": "https://localhost:8080/"
        },
        "id": "eNZrCoFmzM5K",
        "outputId": "7574fc9f-9e3d-438e-b704-7ec860043fa3"
      },
      "execution_count": 38,
      "outputs": [
        {
          "output_type": "stream",
          "name": "stdout",
          "text": [
            "\n",
            "Cluster 0\n",
            "           cgpa          iq  cluster\n",
            "count  50.00000   50.000000     50.0\n",
            "mean    8.19980   94.600000      0.0\n",
            "std     0.26922    2.175935      0.0\n",
            "min     7.47000   91.000000      0.0\n",
            "25%     8.00500   93.000000      0.0\n",
            "50%     8.22000   94.500000      0.0\n",
            "75%     8.35750   96.000000      0.0\n",
            "max     8.79000  100.000000      0.0\n",
            "\n",
            "Cluster 1\n",
            "            cgpa         iq  cluster\n",
            "count  50.000000   50.00000     50.0\n",
            "mean    5.894800  109.52000      1.0\n",
            "std     0.264569    1.90852      0.0\n",
            "min     5.320000  104.00000      1.0\n",
            "25%     5.740000  108.00000      1.0\n",
            "50%     5.875000  109.00000      1.0\n",
            "75%     6.050000  111.00000      1.0\n",
            "max     6.610000  113.00000      1.0\n",
            "\n",
            "Cluster 2\n",
            "            cgpa         iq  cluster\n",
            "count  50.000000  50.000000     50.0\n",
            "mean    4.967600  86.700000      2.0\n",
            "std     0.190483   1.740865      0.0\n",
            "min     4.600000  83.000000      2.0\n",
            "25%     4.852500  86.000000      2.0\n",
            "50%     4.960000  87.000000      2.0\n",
            "75%     5.050000  88.000000      2.0\n",
            "max     5.440000  91.000000      2.0\n",
            "\n",
            "Cluster 3\n",
            "            cgpa         iq  cluster\n",
            "count  50.000000   50.00000     50.0\n",
            "mean    8.871400  117.16000      3.0\n",
            "std     0.175569    1.51671      0.0\n",
            "min     8.450000  113.00000      3.0\n",
            "25%     8.780000  116.00000      3.0\n",
            "50%     8.895000  117.00000      3.0\n",
            "75%     8.970000  118.00000      3.0\n",
            "max     9.300000  121.00000      3.0\n"
          ]
        }
      ]
    },
    {
      "cell_type": "markdown",
      "source": [
        "# 🎯 Goal: Improve initial centroid selection using K-Means++\n",
        "🔹 Reminder: What does K-Means++ do?\n",
        "\n",
        "Instead of picking all centroids randomly, it does the following:\n",
        "\n",
        "Randomly pick the first centroid from the data points.\n",
        "\n",
        "For each remaining data point, compute the distance to the nearest centroid already chosen.\n",
        "\n",
        "Pick the next centroid probabilistically, giving higher probability to points farther away.\n",
        "\n",
        "Repeat until k centroids are selected."
      ],
      "metadata": {
        "id": "dvjW1hhXzqS7"
      }
    },
    {
      "cell_type": "code",
      "source": [
        "import numpy as np\n",
        "import random\n",
        "\n",
        "def initialize_kmeans_plus_plus(X, k,self):\n",
        "    n_samples = X.shape[0]\n",
        "    centroids = []\n",
        "\n",
        "    # 1. Randomly choose the first centroid\n",
        "    first_idx = random.randint(0, n_samples - 1)\n",
        "    centroids.append(X[first_idx])\n",
        "\n",
        "    # 2. Choose the remaining centroids\n",
        "    for _ in range(1, k):\n",
        "        # Compute distances to the nearest existing centroid\n",
        "        distances = np.array([\n",
        "            min(np.linalg.norm(x - centroid)**2 for centroid in centroids)\n",
        "            for x in X\n",
        "        ])\n",
        "\n",
        "        # Compute probabilities proportional to distances\n",
        "        probabilities = distances / distances.sum()\n",
        "\n",
        "        # Choose the next centroid based on probabilities\n",
        "        next_idx = np.random.choice(n_samples, p=probabilities)\n",
        "        centroids.append(X[next_idx])\n",
        "\n",
        "    return np.array(centroids)"
      ],
      "metadata": {
        "id": "m182FdOmzs-l"
      },
      "execution_count": 41,
      "outputs": []
    },
    {
      "cell_type": "code",
      "source": [
        "self.centroids = initialize_kmeans_plus_plus(X, self.n_clusters)"
      ],
      "metadata": {
        "id": "BVYCyc80z5qc"
      },
      "execution_count": null,
      "outputs": []
    },
    {
      "cell_type": "code",
      "source": [
        "from sklearn.metrics import silhouette_score\n",
        "\n",
        "km_random = KMeans(n_clusters=4, max_iter=100)\n",
        "km_random.fit_predict(X)\n",
        "print(\"Silhouette (Random Init):\", silhouette_score(X, km_random.assign_clusters(X)))\n",
        "\n",
        "km_plus = KMeans(n_clusters=4, max_iter=100)\n",
        "km_plus.centroids = initialize_kmeans_plus_plus(X, 4)\n",
        "km_plus.fit_predict(X)\n",
        "print(\"Silhouette (KMeans++):\", silhouette_score(X, km_plus.assign_clusters(X)))"
      ],
      "metadata": {
        "id": "tUSBAmBUz8M2"
      },
      "execution_count": null,
      "outputs": []
    }
  ]
}