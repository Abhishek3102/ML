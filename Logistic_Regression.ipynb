{
  "nbformat": 4,
  "nbformat_minor": 0,
  "metadata": {
    "colab": {
      "provenance": [],
      "authorship_tag": "ABX9TyNZbXtHODDSC6MKKDfaEQZG",
      "include_colab_link": true
    },
    "kernelspec": {
      "name": "python3",
      "display_name": "Python 3"
    },
    "language_info": {
      "name": "python"
    }
  },
  "cells": [
    {
      "cell_type": "markdown",
      "metadata": {
        "id": "view-in-github",
        "colab_type": "text"
      },
      "source": [
        "<a href=\"https://colab.research.google.com/github/Abhishek3102/ML/blob/main/Logistic_Regression.ipynb\" target=\"_parent\"><img src=\"https://colab.research.google.com/assets/colab-badge.svg\" alt=\"Open In Colab\"/></a>"
      ]
    },
    {
      "cell_type": "markdown",
      "source": [
        "# **Logistic Regression : **\n",
        "\n",
        "Y_hat = 1/1+e^-z\n",
        "\n",
        "Z = w.X + b\n",
        "\n",
        "Y_hat --> Predicted Value\n",
        "\n",
        "X --> Independent Variable\n",
        "\n",
        "w --> weight\n",
        "\n",
        "b --> bias\n",
        "\n",
        "**Gradient Descent**: An optimization algo used for minimizing the loss function. It is used for updating the parameters of the learning model.\n",
        "\n",
        "w = w - a*dw\n",
        "\n",
        "b = b - a*db\n",
        "\n",
        "**Learning Rate** : Is a tuning parameter in an optimization algo that determines the step at each itertion while moving towards a minimum of a loss function.\n",
        "\n",
        "dw = 1/m * (Y_hat - Y).X\n",
        "\n",
        "db = 1/m * (Y_hat - Y)"
      ],
      "metadata": {
        "id": "bubtZRK-o_X_"
      }
    },
    {
      "cell_type": "code",
      "execution_count": null,
      "metadata": {
        "id": "Ky_3C_I0X09_"
      },
      "outputs": [],
      "source": [
        "import numpy as np"
      ]
    },
    {
      "cell_type": "markdown",
      "source": [
        "**LogisticRegression**"
      ],
      "metadata": {
        "id": "uoSVbmhItd7r"
      }
    },
    {
      "cell_type": "code",
      "source": [
        "class Logistic_Regression():\n",
        "  # Declaring the learning rate and number of iterations(hyperparameters)\n",
        "  def __init__(self, learning_rate, no_of_iterations):\n",
        "    self.learning_rate = learning_rate\n",
        "    self.no_of_iterations = no_of_iterations\n",
        "\n",
        "  # fit function to train the model with dataset\n",
        "  def fit(self,X,Y):\n",
        "\n",
        "    # no. of data points in the dataset (no. of rows) --> m\n",
        "    # no. of input features in the dataset (no. of columns) --> n\n",
        "    self.m, self.n = X.shape\n",
        "\n",
        "    # Initializing the weight and bias values\n",
        "    self.w = np.zeros(self.n)\n",
        "    self.b = 0\n",
        "    self.X = X\n",
        "    self.Y = Y\n",
        "\n",
        "    # Implementing Gradient Descent for Optimization\n",
        "    for i in range(self.no_of_iterations):\n",
        "      self.update_weights()\n",
        "\n",
        "\n",
        "  def update_weights(self):\n",
        "\n",
        "    #Y_hat formula (sigmoid function)\n",
        "    Y_hat = 1 / (1 + np.exp(- (self.X.dot(self.w) + self.b)))\n",
        "\n",
        "    # Derivatives\n",
        "    dw = (1/self.m)*np.dot(self.X.T, (Y_hat - self.Y))\n",
        "\n",
        "    db = (1/self.m)*np.sum(Y_hat - self.Y)\n",
        "\n",
        "    # Updating the weights and bias using Gradient Descent\n",
        "    self.w = self.w - self.learning_rate * dw\n",
        "    self.b = self.b - self.learning_rate * db\n",
        "\n",
        "\n",
        "  # Sigmoid Function and decision boundary\n",
        "  def predict(self):\n",
        "    Y_pred = 1 / (1 + np.exp(- (self.X.dot(self.w) + self.b)))\n",
        "    # Y_pred[Y_pred >= 0.5] = 1\n",
        "    # Y_pred[Y_pred < 0.5] = 0\n",
        "    Y_pred = np.where(Y_pred > 0.5,1,0)\n",
        "    return Y_pred\n",
        "\n"
      ],
      "metadata": {
        "id": "6tqnufnUtWN6"
      },
      "execution_count": null,
      "outputs": []
    },
    {
      "cell_type": "code",
      "source": [
        "# print(np.exp(3))  --> This is same as e^3"
      ],
      "metadata": {
        "colab": {
          "base_uri": "https://localhost:8080/"
        },
        "id": "fX9ty3B600ou",
        "outputId": "217f5c46-aa82-4be1-a58b-1283040a4b53"
      },
      "execution_count": null,
      "outputs": [
        {
          "output_type": "stream",
          "name": "stdout",
          "text": [
            "20.085536923187668\n"
          ]
        }
      ]
    },
    {
      "cell_type": "code",
      "source": [],
      "metadata": {
        "id": "F7dk2lif06S7"
      },
      "execution_count": null,
      "outputs": []
    }
  ]
}